{
  "nbformat": 4,
  "nbformat_minor": 0,
  "metadata": {
    "kernelspec": {
      "name": "python3",
      "display_name": "Python 3"
    },
    "language_info": {
      "codemirror_mode": {
        "name": "ipython",
        "version": 3
      },
      "file_extension": ".py",
      "mimetype": "text/x-python",
      "name": "python",
      "nbconvert_exporter": "python",
      "pygments_lexer": "ipython3",
      "version": "3.5.2"
    },
    "colab": {
      "name": "weather_lstm_simple-complete.ipynb",
      "provenance": [],
      "collapsed_sections": [],
      "toc_visible": true
    },
    "accelerator": "GPU"
  },
  "cells": [
    {
      "cell_type": "markdown",
      "metadata": {
        "id": "JnRXSMEB8tEB",
        "colab_type": "text"
      },
      "source": [
        "# Time series - multivariate prediction, LSTM network for fixed-sized prediction\n",
        "\n",
        "In this example we will load prepared data and try to predict it with a simple lstm network producing fixed-sized prediction.\n",
        "\n",
        "This example is very similar to the feed-forward network except the model is smaller and it can predict from history of arbitrary length."
      ]
    },
    {
      "cell_type": "code",
      "metadata": {
        "id": "OgGVbU9t8tED",
        "colab_type": "code",
        "outputId": "2e3b10c8-e8fc-4063-f4c6-44988ad1a66a",
        "colab": {
          "base_uri": "https://localhost:8080/",
          "height": 34
        }
      },
      "source": [
        "%tensorflow_version 2.x\n",
        "%matplotlib inline\n",
        "\n",
        "import numpy as np\n",
        "import os\n",
        "from datetime import date\n",
        "import re\n",
        "\n",
        "import matplotlib.pyplot as plt\n",
        "\n",
        "import pandas as pd\n",
        "pd.options.display.max_rows = 30\n",
        "from pandas.plotting import register_matplotlib_converters\n",
        "register_matplotlib_converters()"
      ],
      "execution_count": 2,
      "outputs": [
        {
          "output_type": "stream",
          "text": [
            "TensorFlow 2.x selected.\n"
          ],
          "name": "stdout"
        }
      ]
    },
    {
      "cell_type": "code",
      "metadata": {
        "id": "j5DcldIuCiI_",
        "colab_type": "code",
        "colab": {}
      },
      "source": [
        "from google.colab import drive\n",
        "drive.mount('/content/drive/')"
      ],
      "execution_count": 0,
      "outputs": []
    },
    {
      "cell_type": "code",
      "metadata": {
        "id": "u-fh0vOg8tEH",
        "colab_type": "code",
        "colab": {}
      },
      "source": [
        "PATH = '/content/drive/My Drive/ml-college/time-series-analysis/data/weather/training_set_temp_dp_press.p'\n",
        "training_df = pd.read_pickle(PATH)"
      ],
      "execution_count": 0,
      "outputs": []
    },
    {
      "cell_type": "markdown",
      "metadata": {
        "id": "gXbf-IK48tEL",
        "colab_type": "text"
      },
      "source": [
        "Notice that we would randomly sample the training data from the whole weather history.\n",
        "\n",
        "The `indices` array will contain starting date for each sample"
      ]
    },
    {
      "cell_type": "code",
      "metadata": {
        "id": "S721Dcjs8tEN",
        "colab_type": "code",
        "colab": {}
      },
      "source": [
        "import random\n",
        "\n",
        "HISTORY_LEN = 14\n",
        "PREDICTION_LEN = 7\n",
        "NUM_SAMPLES = 2000\n",
        "NUM_INPUTS = len(training_df.columns)\n",
        "\n",
        "indices = random.sample(range(0,len(training_df) - HISTORY_LEN - PREDICTION_LEN), NUM_SAMPLES)"
      ],
      "execution_count": 0,
      "outputs": []
    },
    {
      "cell_type": "markdown",
      "metadata": {
        "id": "A86yteDa8tER",
        "colab_type": "text"
      },
      "source": [
        "In this example only the output needs to be reshaped into one-dimensional shape. Inputs need to be in a sequence form"
      ]
    },
    {
      "cell_type": "code",
      "metadata": {
        "id": "_y7kI0_s8tES",
        "colab_type": "code",
        "colab": {}
      },
      "source": [
        "ts_data = training_df.values\n",
        "ts_inputs = np.array([ts_data[i:i + HISTORY_LEN] for i in indices])\n",
        "ts_outputs = np.array([ts_data[i + HISTORY_LEN: i + HISTORY_LEN + PREDICTION_LEN] for i in indices]).reshape((NUM_SAMPLES, PREDICTION_LEN * NUM_INPUTS))"
      ],
      "execution_count": 0,
      "outputs": []
    },
    {
      "cell_type": "code",
      "metadata": {
        "id": "eHyaTKls8tEW",
        "colab_type": "code",
        "outputId": "a29838f8-57c9-48aa-abcc-3ff874738b20",
        "colab": {
          "base_uri": "https://localhost:8080/",
          "height": 289
        }
      },
      "source": [
        "from tensorflow.keras import Model\n",
        "from tensorflow.keras.layers import LSTM, GRU, Input, Dense\n",
        "\n",
        "inputs = Input(shape=ts_inputs.shape[1:])\n",
        "x = GRU(32, return_sequences=True, recurrent_activation='sigmoid')(inputs)\n",
        "x = GRU(16, recurrent_activation='sigmoid')(x)\n",
        "outputs = Dense(PREDICTION_LEN * NUM_INPUTS, activation='linear')(x)\n",
        "\n",
        "model = Model(inputs, outputs)\n",
        "model.compile(optimizer='adam', loss='mse')\n",
        "model.summary()"
      ],
      "execution_count": 8,
      "outputs": [
        {
          "output_type": "stream",
          "text": [
            "Model: \"model\"\n",
            "_________________________________________________________________\n",
            "Layer (type)                 Output Shape              Param #   \n",
            "=================================================================\n",
            "input_1 (InputLayer)         [(None, 14, 4)]           0         \n",
            "_________________________________________________________________\n",
            "gru (GRU)                    (None, 14, 32)            3648      \n",
            "_________________________________________________________________\n",
            "gru_1 (GRU)                  (None, 16)                2400      \n",
            "_________________________________________________________________\n",
            "dense (Dense)                (None, 28)                476       \n",
            "=================================================================\n",
            "Total params: 6,524\n",
            "Trainable params: 6,524\n",
            "Non-trainable params: 0\n",
            "_________________________________________________________________\n"
          ],
          "name": "stdout"
        }
      ]
    },
    {
      "cell_type": "code",
      "metadata": {
        "scrolled": false,
        "id": "4qoiycAT8tEZ",
        "colab_type": "code",
        "colab": {}
      },
      "source": [
        "model.fit(ts_inputs, ts_outputs, validation_split=0.1, epochs=100)"
      ],
      "execution_count": 0,
      "outputs": []
    },
    {
      "cell_type": "markdown",
      "metadata": {
        "id": "jMy-MJci8tEc",
        "colab_type": "text"
      },
      "source": [
        "## Prediction phase\n",
        "\n",
        "To test the prediction, we will take a particular date and feed the history into the network.\n",
        "\n",
        "Notice the `DatetimeIndex` usage that allows us to easily align our prediction to the input time series."
      ]
    },
    {
      "cell_type": "code",
      "metadata": {
        "id": "kso7avUG8tEe",
        "colab_type": "code",
        "colab": {}
      },
      "source": [
        "import datetime\n",
        "from datetime import timedelta"
      ],
      "execution_count": 0,
      "outputs": []
    },
    {
      "cell_type": "code",
      "metadata": {
        "id": "j59ch_HQqm55",
        "colab_type": "code",
        "colab": {}
      },
      "source": [
        "PATH = '/content/drive/My Drive/ml-college/time-series-analysis/data/weather/testing_set_temp_dp_press.p'\n",
        "testing_df = pd.read_pickle(PATH)"
      ],
      "execution_count": 0,
      "outputs": []
    },
    {
      "cell_type": "code",
      "metadata": {
        "id": "jKIpWYdg8tEi",
        "colab_type": "code",
        "colab": {}
      },
      "source": [
        "prediction_date = date(2017, 1, 21)\n",
        "\n",
        "prediction_input = testing_df[prediction_date - timedelta(days=HISTORY_LEN - 1): prediction_date]\n",
        "prediction = model.predict(prediction_input.values.reshape(1, HISTORY_LEN, NUM_INPUTS))\n",
        "\n",
        "history = testing_df[prediction_date - timedelta(days=HISTORY_LEN - 1): prediction_date + timedelta(days=PREDICTION_LEN)]\n",
        "prediction_df = pd.DataFrame(prediction.reshape((PREDICTION_LEN, NUM_INPUTS)), index=pd.date_range(start=prediction_date + timedelta(days=1), freq='D', periods=PREDICTION_LEN))"
      ],
      "execution_count": 0,
      "outputs": []
    },
    {
      "cell_type": "code",
      "metadata": {
        "id": "Civ3muMW8tEl",
        "colab_type": "code",
        "colab": {}
      },
      "source": [
        "def show_plots(history, prediction_df):\n",
        "    plt.figure(figsize = (12, 6))\n",
        "    history_plt = plt.plot(history.iloc[:,0:3], linestyle='--')\n",
        "    plt.plot(history.iloc[:,3], 'oc')\n",
        "    plt.plot(prediction_df.iloc[:,0], color=history_plt[0].get_color())\n",
        "    plt.plot(prediction_df.iloc[:,1], color=history_plt[1].get_color())\n",
        "    plt.plot(prediction_df.iloc[:,2], color=history_plt[2].get_color())\n",
        "    plt.plot(prediction_df.iloc[:,3], 'or')\n",
        "    plt.show()"
      ],
      "execution_count": 0,
      "outputs": []
    },
    {
      "cell_type": "code",
      "metadata": {
        "id": "B73IsczYrIc_",
        "colab_type": "code",
        "colab": {
          "base_uri": "https://localhost:8080/",
          "height": 374
        },
        "outputId": "e3920d9b-b841-4cab-b1c0-8ecd71129c67"
      },
      "source": [
        "show_plots(history, prediction_df)"
      ],
      "execution_count": 15,
      "outputs": [
        {
          "output_type": "display_data",
          "data": {
            "image/png": "[encoded data removed]",
            "text/plain": [
              "<Figure size 864x432 with 1 Axes>"
            ]
          },
          "metadata": {
            "tags": []
          }
        }
      ]
    }
  ]
}