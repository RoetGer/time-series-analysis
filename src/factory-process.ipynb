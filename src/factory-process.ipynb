{
  "nbformat": 4,
  "nbformat_minor": 0,
  "metadata": {
    "colab": {
      "name": "factory-process",
      "provenance": [],
      "collapsed_sections": [
        "E03q1Navuat5",
        "eQfXoOKPurZf",
        "Oworsdlv2WAI"
      ]
    },
    "kernelspec": {
      "name": "python3",
      "display_name": "Python 3"
    },
    "accelerator": "GPU"
  },
  "cells": [
    {
      "cell_type": "markdown",
      "metadata": {
        "id": "6RAOVqDetRpF"
      },
      "source": [
        "# Factory Process Regression\n",
        "\t\t"
      ]
    },
    {
      "cell_type": "markdown",
      "metadata": {
        "id": "Gs9YIsXzt60G"
      },
      "source": [
        "## Introduction"
      ]
    },
    {
      "cell_type": "markdown",
      "metadata": {
        "id": "E03q1Navuat5"
      },
      "source": [
        "### Description of physical setup\n",
        "\n",
        "- The data comes from a continuous flow process. \n",
        "- Sample rate is 1 Hz.\n",
        "\n",
        "\n",
        "- In the first stage, Machines 1, 2, and 3 operate in parallel, and feed their outputs into a step that combines the flows.\n",
        "- Output from the combiner is measured in 15 locations. These measurements are the **primary measurements to predict.**\n",
        "\n",
        "\n",
        "- Next, the output flows into a second stage, where Machines 4 and 5 process in series.\n",
        "- Measurements are made again in the same 15 locations. These are the **secondary measurements to predict**.\n",
        "\n",
        "\n",
        "- Measurements are noisy.\n",
        "- Each measurement also has a target or *Setpoint* (setpoints are included in the first row of data).\n",
        "- The goal is to predict the measurements (or the error versus setpoints) for as many of the 15 measurements as possible.\n",
        "- Some measurements will be more predictable than others!\n",
        "\n",
        "### Tasks\n",
        "\n",
        "- Prediction of measurements after the first stage are the primary interest.\n",
        "- Prediction of measurements after the second stage are nice-to-have but the data is much more noisy."
      ]
    },
    {
      "cell_type": "markdown",
      "metadata": {
        "id": "eQfXoOKPurZf"
      },
      "source": [
        "### Note on variable naming conventions\n",
        "\n",
        "- **.C.Setpoint* -- Setpoint for Controlled variable \n",
        "- **~.C.Actual* -- Actual value of Controlled variable \n",
        "- **~.U.Actual* -- Actual value of Uncontrolled variable \n",
        "- *Others* -- Environmental or raw material variables, States / events, etc.\n",
        "\n",
        "### Columns Desctription\n",
        "\n",
        "```\n",
        "Start col |   End col | Description\n",
        "        0 |         0 | Time stamp\n",
        "        1 |         2 | Factory ambient conditions\n",
        "        3 |         6 | First stage, Machine 1, raw material properties (material going in to Machine 1)\n",
        "        7 |        14 | First stage, Machine 1 process variables\n",
        "       15 |        18 | First stage, Machine 2, raw material properties (material going in to Machine 2)\n",
        "       19 |        26 | First stage, Machine 2 process variables\n",
        "       27 |        30 | First stage, Machine 3, raw material properties (material going in to Machine 3)\n",
        "       31 |        38 | First stage, Machine 3 process variables\n",
        "       39 |        41 | Combiner stage process parameters. Here we combines the outputs from Machines 1, 2, and 3.\n",
        "       42 |        71 | PRIMARY OUTPUT TO CONTROL: Measurements of 15 features (in mm), along with setpoint or target for each\n",
        "       72 |        78 | Second stage, Machine 4 process variables\n",
        "       79 |        85 | Second stage, Machine 5 process variables\n",
        "       86 |       115 | SECONDARY OUTPUT TO CONTROL: Measurements of 15 features (in mm), along with setpoint or target for each\n",
        "```\n",
        "\n",
        "### Acknowledgement\n",
        "\n",
        "The data was taken from [this project](https://www.kaggle.com/supergus/multistage-continuousflow-manufacturing-process).\n",
        "\n"
      ]
    },
    {
      "cell_type": "markdown",
      "metadata": {
        "id": "AfZ-ZYg3tWmT"
      },
      "source": [
        "## Imports & Drive Mount"
      ]
    },
    {
      "cell_type": "code",
      "metadata": {
        "id": "K1FWXZmVGf3J"
      },
      "source": [
        "%tensorflow_version 2.x\n",
        "%matplotlib inline\n",
        "\n",
        "import random\n",
        "\n",
        "import numpy as np\n",
        "import pandas as pd\n",
        "\n",
        "import matplotlib\n",
        "import matplotlib.pyplot as plt\n",
        "\n",
        "from tqdm.notebook import tqdm"
      ],
      "execution_count": null,
      "outputs": []
    },
    {
      "cell_type": "code",
      "metadata": {
        "id": "gPv6WOpwHDbr"
      },
      "source": [
        "matplotlib.rcParams['figure.figsize'] = (25, 6)\n",
        "from pandas.plotting import register_matplotlib_converters\n",
        "register_matplotlib_converters()"
      ],
      "execution_count": null,
      "outputs": []
    },
    {
      "cell_type": "code",
      "metadata": {
        "id": "mRq-or9tHEX4",
        "colab": {
          "base_uri": "https://localhost:8080/"
        },
        "outputId": "704e8f6b-6f05-445d-e205-6d914b088c31"
      },
      "source": [
        "from google.colab import drive\n",
        "drive.mount('/content/drive/')"
      ],
      "execution_count": null,
      "outputs": [
        {
          "output_type": "stream",
          "text": [
            "Mounted at /content/drive/\n"
          ],
          "name": "stdout"
        }
      ]
    },
    {
      "cell_type": "markdown",
      "metadata": {
        "id": "70N3fiyl0JxA"
      },
      "source": [
        "## Loading data"
      ]
    },
    {
      "cell_type": "code",
      "metadata": {
        "id": "yxTJqulsHF3X"
      },
      "source": [
        "import pandas as pd\n",
        "\n",
        "df = pd.read_csv('/content/drive/My Drive/ml-college/time-series-analysis/data/manufacturing/continuous_factory_process.csv')"
      ],
      "execution_count": null,
      "outputs": []
    },
    {
      "cell_type": "markdown",
      "metadata": {
        "id": "Is78fwavp9Iw"
      },
      "source": [
        "Let's check if we can see the structure of the dataset as described..."
      ]
    },
    {
      "cell_type": "code",
      "metadata": {
        "id": "UaAvzQ9N6s-9"
      },
      "source": [
        "for i, c in enumerate(df.columns.values):\n",
        "    print(i, c)"
      ],
      "execution_count": null,
      "outputs": []
    },
    {
      "cell_type": "markdown",
      "metadata": {
        "id": "LwzEMkfOqF1m"
      },
      "source": [
        "We'll use `filter` method from pandas to get to the rigth subset of columns:"
      ]
    },
    {
      "cell_type": "code",
      "metadata": {
        "id": "VqHtzX8n-mMx",
        "colab": {
          "base_uri": "https://localhost:8080/"
        },
        "outputId": "7b255a9a-363b-4e3b-b406-82182f452ef9"
      },
      "source": [
        "df.filter(regex='^Stage1.Output.Measurement.*Actual$').columns"
      ],
      "execution_count": null,
      "outputs": [
        {
          "output_type": "execute_result",
          "data": {
            "text/plain": [
              "Index(['Stage1.Output.Measurement0.U.Actual',\n",
              "       'Stage1.Output.Measurement1.U.Actual',\n",
              "       'Stage1.Output.Measurement2.U.Actual',\n",
              "       'Stage1.Output.Measurement3.U.Actual',\n",
              "       'Stage1.Output.Measurement4.U.Actual',\n",
              "       'Stage1.Output.Measurement5.U.Actual',\n",
              "       'Stage1.Output.Measurement6.U.Actual',\n",
              "       'Stage1.Output.Measurement7.U.Actual',\n",
              "       'Stage1.Output.Measurement8.U.Actual',\n",
              "       'Stage1.Output.Measurement9.U.Actual',\n",
              "       'Stage1.Output.Measurement10.U.Actual',\n",
              "       'Stage1.Output.Measurement11.U.Actual',\n",
              "       'Stage1.Output.Measurement12.U.Actual',\n",
              "       'Stage1.Output.Measurement13.U.Actual',\n",
              "       'Stage1.Output.Measurement14.U.Actual'],\n",
              "      dtype='object')"
            ]
          },
          "metadata": {
            "tags": []
          },
          "execution_count": 6
        }
      ]
    }
  ]
}