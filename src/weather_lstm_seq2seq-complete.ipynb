{
  "nbformat": 4,
  "nbformat_minor": 0,
  "metadata": {
    "kernelspec": {
      "name": "python3",
      "display_name": "Python 3"
    },
    "language_info": {
      "codemirror_mode": {
        "name": "ipython",
        "version": 3
      },
      "file_extension": ".py",
      "mimetype": "text/x-python",
      "name": "python",
      "nbconvert_exporter": "python",
      "pygments_lexer": "ipython3",
      "version": "3.5.2"
    },
    "colab": {
      "name": "weather_lstm_seq2seq-complete.ipynb",
      "provenance": [],
      "collapsed_sections": []
    },
    "accelerator": "GPU",
    "widgets": {
      "application/vnd.jupyter.widget-state+json": {
        "cab7cc1d206a4c5bb02dce2ae0e7a002": {
          "model_module": "@jupyter-widgets/controls",
          "model_name": "HBoxModel",
          "state": {
            "_view_name": "HBoxView",
            "_dom_classes": [],
            "_model_name": "HBoxModel",
            "_view_module": "@jupyter-widgets/controls",
            "_model_module_version": "1.5.0",
            "_view_count": null,
            "_view_module_version": "1.5.0",
            "box_style": "",
            "layout": "IPY_MODEL_0e72b2da123c4b94b3d1a9bab5807b50",
            "_model_module": "@jupyter-widgets/controls",
            "children": [
              "IPY_MODEL_fa04d871c3ee491d8cd8a8a5820d031c",
              "IPY_MODEL_3a817db30abb4a7480eb44bb1519b272"
            ]
          }
        },
        "0e72b2da123c4b94b3d1a9bab5807b50": {
          "model_module": "@jupyter-widgets/base",
          "model_name": "LayoutModel",
          "state": {
            "_view_name": "LayoutView",
            "grid_template_rows": null,
            "right": null,
            "justify_content": null,
            "_view_module": "@jupyter-widgets/base",
            "overflow": null,
            "_model_module_version": "1.2.0",
            "_view_count": null,
            "flex_flow": null,
            "width": null,
            "min_width": null,
            "border": null,
            "align_items": null,
            "bottom": null,
            "_model_module": "@jupyter-widgets/base",
            "top": null,
            "grid_column": null,
            "overflow_y": null,
            "overflow_x": null,
            "grid_auto_flow": null,
            "grid_area": null,
            "grid_template_columns": null,
            "flex": null,
            "_model_name": "LayoutModel",
            "justify_items": null,
            "grid_row": null,
            "max_height": null,
            "align_content": null,
            "visibility": null,
            "align_self": null,
            "height": null,
            "min_height": null,
            "padding": null,
            "grid_auto_rows": null,
            "grid_gap": null,
            "max_width": null,
            "order": null,
            "_view_module_version": "1.2.0",
            "grid_template_areas": null,
            "object_position": null,
            "object_fit": null,
            "grid_auto_columns": null,
            "margin": null,
            "display": null,
            "left": null
          }
        },
        "fa04d871c3ee491d8cd8a8a5820d031c": {
          "model_module": "@jupyter-widgets/controls",
          "model_name": "FloatProgressModel",
          "state": {
            "_view_name": "ProgressView",
            "style": "IPY_MODEL_118c7debb6ee4bd4b79f8880ae434913",
            "_dom_classes": [],
            "description": "100%",
            "_model_name": "FloatProgressModel",
            "bar_style": "success",
            "max": 50,
            "_view_module": "@jupyter-widgets/controls",
            "_model_module_version": "1.5.0",
            "value": 50,
            "_view_count": null,
            "_view_module_version": "1.5.0",
            "orientation": "horizontal",
            "min": 0,
            "description_tooltip": null,
            "_model_module": "@jupyter-widgets/controls",
            "layout": "IPY_MODEL_5cffbf6b2afb46c580463911e45a86a2"
          }
        },
        "3a817db30abb4a7480eb44bb1519b272": {
          "model_module": "@jupyter-widgets/controls",
          "model_name": "HTMLModel",
          "state": {
            "_view_name": "HTMLView",
            "style": "IPY_MODEL_615d53ce56e846aaa4543c214757e498",
            "_dom_classes": [],
            "description": "",
            "_model_name": "HTMLModel",
            "placeholder": "​",
            "_view_module": "@jupyter-widgets/controls",
            "_model_module_version": "1.5.0",
            "value": " 50/50 [01:23&lt;00:00,  1.66s/it]",
            "_view_count": null,
            "_view_module_version": "1.5.0",
            "description_tooltip": null,
            "_model_module": "@jupyter-widgets/controls",
            "layout": "IPY_MODEL_125f9289af83458081a703144aa03f56"
          }
        },
        "118c7debb6ee4bd4b79f8880ae434913": {
          "model_module": "@jupyter-widgets/controls",
          "model_name": "ProgressStyleModel",
          "state": {
            "_view_name": "StyleView",
            "_model_name": "ProgressStyleModel",
            "description_width": "initial",
            "_view_module": "@jupyter-widgets/base",
            "_model_module_version": "1.5.0",
            "_view_count": null,
            "_view_module_version": "1.2.0",
            "bar_color": null,
            "_model_module": "@jupyter-widgets/controls"
          }
        },
        "5cffbf6b2afb46c580463911e45a86a2": {
          "model_module": "@jupyter-widgets/base",
          "model_name": "LayoutModel",
          "state": {
            "_view_name": "LayoutView",
            "grid_template_rows": null,
            "right": null,
            "justify_content": null,
            "_view_module": "@jupyter-widgets/base",
            "overflow": null,
            "_model_module_version": "1.2.0",
            "_view_count": null,
            "flex_flow": null,
            "width": null,
            "min_width": null,
            "border": null,
            "align_items": null,
            "bottom": null,
            "_model_module": "@jupyter-widgets/base",
            "top": null,
            "grid_column": null,
            "overflow_y": null,
            "overflow_x": null,
            "grid_auto_flow": null,
            "grid_area": null,
            "grid_template_columns": null,
            "flex": null,
            "_model_name": "LayoutModel",
            "justify_items": null,
            "grid_row": null,
            "max_height": null,
            "align_content": null,
            "visibility": null,
            "align_self": null,
            "height": null,
            "min_height": null,
            "padding": null,
            "grid_auto_rows": null,
            "grid_gap": null,
            "max_width": null,
            "order": null,
            "_view_module_version": "1.2.0",
            "grid_template_areas": null,
            "object_position": null,
            "object_fit": null,
            "grid_auto_columns": null,
            "margin": null,
            "display": null,
            "left": null
          }
        },
        "615d53ce56e846aaa4543c214757e498": {
          "model_module": "@jupyter-widgets/controls",
          "model_name": "DescriptionStyleModel",
          "state": {
            "_view_name": "StyleView",
            "_model_name": "DescriptionStyleModel",
            "description_width": "",
            "_view_module": "@jupyter-widgets/base",
            "_model_module_version": "1.5.0",
            "_view_count": null,
            "_view_module_version": "1.2.0",
            "_model_module": "@jupyter-widgets/controls"
          }
        },
        "125f9289af83458081a703144aa03f56": {
          "model_module": "@jupyter-widgets/base",
          "model_name": "LayoutModel",
          "state": {
            "_view_name": "LayoutView",
            "grid_template_rows": null,
            "right": null,
            "justify_content": null,
            "_view_module": "@jupyter-widgets/base",
            "overflow": null,
            "_model_module_version": "1.2.0",
            "_view_count": null,
            "flex_flow": null,
            "width": null,
            "min_width": null,
            "border": null,
            "align_items": null,
            "bottom": null,
            "_model_module": "@jupyter-widgets/base",
            "top": null,
            "grid_column": null,
            "overflow_y": null,
            "overflow_x": null,
            "grid_auto_flow": null,
            "grid_area": null,
            "grid_template_columns": null,
            "flex": null,
            "_model_name": "LayoutModel",
            "justify_items": null,
            "grid_row": null,
            "max_height": null,
            "align_content": null,
            "visibility": null,
            "align_self": null,
            "height": null,
            "min_height": null,
            "padding": null,
            "grid_auto_rows": null,
            "grid_gap": null,
            "max_width": null,
            "order": null,
            "_view_module_version": "1.2.0",
            "grid_template_areas": null,
            "object_position": null,
            "object_fit": null,
            "grid_auto_columns": null,
            "margin": null,
            "display": null,
            "left": null
          }
        },
        "3837a2fd8db34f68bfb88444bb2671de": {
          "model_module": "@jupyter-widgets/controls",
          "model_name": "HBoxModel",
          "state": {
            "_view_name": "HBoxView",
            "_dom_classes": [],
            "_model_name": "HBoxModel",
            "_view_module": "@jupyter-widgets/controls",
            "_model_module_version": "1.5.0",
            "_view_count": null,
            "_view_module_version": "1.5.0",
            "box_style": "",
            "layout": "IPY_MODEL_565c4be697d24d738b41095e731938e7",
            "_model_module": "@jupyter-widgets/controls",
            "children": [
              "IPY_MODEL_b95341f5cb534407a5f0ce1000217191",
              "IPY_MODEL_280887f925f546c7b57bfb6addbb778b"
            ]
          }
        },
        "565c4be697d24d738b41095e731938e7": {
          "model_module": "@jupyter-widgets/base",
          "model_name": "LayoutModel",
          "state": {
            "_view_name": "LayoutView",
            "grid_template_rows": null,
            "right": null,
            "justify_content": null,
            "_view_module": "@jupyter-widgets/base",
            "overflow": null,
            "_model_module_version": "1.2.0",
            "_view_count": null,
            "flex_flow": null,
            "width": null,
            "min_width": null,
            "border": null,
            "align_items": null,
            "bottom": null,
            "_model_module": "@jupyter-widgets/base",
            "top": null,
            "grid_column": null,
            "overflow_y": null,
            "overflow_x": null,
            "grid_auto_flow": null,
            "grid_area": null,
            "grid_template_columns": null,
            "flex": null,
            "_model_name": "LayoutModel",
            "justify_items": null,
            "grid_row": null,
            "max_height": null,
            "align_content": null,
            "visibility": null,
            "align_self": null,
            "height": null,
            "min_height": null,
            "padding": null,
            "grid_auto_rows": null,
            "grid_gap": null,
            "max_width": null,
            "order": null,
            "_view_module_version": "1.2.0",
            "grid_template_areas": null,
            "object_position": null,
            "object_fit": null,
            "grid_auto_columns": null,
            "margin": null,
            "display": null,
            "left": null
          }
        },
        "b95341f5cb534407a5f0ce1000217191": {
          "model_module": "@jupyter-widgets/controls",
          "model_name": "FloatProgressModel",
          "state": {
            "_view_name": "ProgressView",
            "style": "IPY_MODEL_429508b2a3094a06828d8fe0ffa3292c",
            "_dom_classes": [],
            "description": "100%",
            "_model_name": "FloatProgressModel",
            "bar_style": "success",
            "max": 50,
            "_view_module": "@jupyter-widgets/controls",
            "_model_module_version": "1.5.0",
            "value": 50,
            "_view_count": null,
            "_view_module_version": "1.5.0",
            "orientation": "horizontal",
            "min": 0,
            "description_tooltip": null,
            "_model_module": "@jupyter-widgets/controls",
            "layout": "IPY_MODEL_975f7403677b491eb0a7b224f7114afa"
          }
        },
        "280887f925f546c7b57bfb6addbb778b": {
          "model_module": "@jupyter-widgets/controls",
          "model_name": "HTMLModel",
          "state": {
            "_view_name": "HTMLView",
            "style": "IPY_MODEL_df008ac2b78c412085f446f1fe08a314",
            "_dom_classes": [],
            "description": "",
            "_model_name": "HTMLModel",
            "placeholder": "​",
            "_view_module": "@jupyter-widgets/controls",
            "_model_module_version": "1.5.0",
            "value": " 50/50 [02:58&lt;00:00,  3.57s/it]",
            "_view_count": null,
            "_view_module_version": "1.5.0",
            "description_tooltip": null,
            "_model_module": "@jupyter-widgets/controls",
            "layout": "IPY_MODEL_1cbcfa233fb845ae83b34abf7198f475"
          }
        },
        "429508b2a3094a06828d8fe0ffa3292c": {
          "model_module": "@jupyter-widgets/controls",
          "model_name": "ProgressStyleModel",
          "state": {
            "_view_name": "StyleView",
            "_model_name": "ProgressStyleModel",
            "description_width": "initial",
            "_view_module": "@jupyter-widgets/base",
            "_model_module_version": "1.5.0",
            "_view_count": null,
            "_view_module_version": "1.2.0",
            "bar_color": null,
            "_model_module": "@jupyter-widgets/controls"
          }
        },
        "975f7403677b491eb0a7b224f7114afa": {
          "model_module": "@jupyter-widgets/base",
          "model_name": "LayoutModel",
          "state": {
            "_view_name": "LayoutView",
            "grid_template_rows": null,
            "right": null,
            "justify_content": null,
            "_view_module": "@jupyter-widgets/base",
            "overflow": null,
            "_model_module_version": "1.2.0",
            "_view_count": null,
            "flex_flow": null,
            "width": null,
            "min_width": null,
            "border": null,
            "align_items": null,
            "bottom": null,
            "_model_module": "@jupyter-widgets/base",
            "top": null,
            "grid_column": null,
            "overflow_y": null,
            "overflow_x": null,
            "grid_auto_flow": null,
            "grid_area": null,
            "grid_template_columns": null,
            "flex": null,
            "_model_name": "LayoutModel",
            "justify_items": null,
            "grid_row": null,
            "max_height": null,
            "align_content": null,
            "visibility": null,
            "align_self": null,
            "height": null,
            "min_height": null,
            "padding": null,
            "grid_auto_rows": null,
            "grid_gap": null,
            "max_width": null,
            "order": null,
            "_view_module_version": "1.2.0",
            "grid_template_areas": null,
            "object_position": null,
            "object_fit": null,
            "grid_auto_columns": null,
            "margin": null,
            "display": null,
            "left": null
          }
        },
        "df008ac2b78c412085f446f1fe08a314": {
          "model_module": "@jupyter-widgets/controls",
          "model_name": "DescriptionStyleModel",
          "state": {
            "_view_name": "StyleView",
            "_model_name": "DescriptionStyleModel",
            "description_width": "",
            "_view_module": "@jupyter-widgets/base",
            "_model_module_version": "1.5.0",
            "_view_count": null,
            "_view_module_version": "1.2.0",
            "_model_module": "@jupyter-widgets/controls"
          }
        },
        "1cbcfa233fb845ae83b34abf7198f475": {
          "model_module": "@jupyter-widgets/base",
          "model_name": "LayoutModel",
          "state": {
            "_view_name": "LayoutView",
            "grid_template_rows": null,
            "right": null,
            "justify_content": null,
            "_view_module": "@jupyter-widgets/base",
            "overflow": null,
            "_model_module_version": "1.2.0",
            "_view_count": null,
            "flex_flow": null,
            "width": null,
            "min_width": null,
            "border": null,
            "align_items": null,
            "bottom": null,
            "_model_module": "@jupyter-widgets/base",
            "top": null,
            "grid_column": null,
            "overflow_y": null,
            "overflow_x": null,
            "grid_auto_flow": null,
            "grid_area": null,
            "grid_template_columns": null,
            "flex": null,
            "_model_name": "LayoutModel",
            "justify_items": null,
            "grid_row": null,
            "max_height": null,
            "align_content": null,
            "visibility": null,
            "align_self": null,
            "height": null,
            "min_height": null,
            "padding": null,
            "grid_auto_rows": null,
            "grid_gap": null,
            "max_width": null,
            "order": null,
            "_view_module_version": "1.2.0",
            "grid_template_areas": null,
            "object_position": null,
            "object_fit": null,
            "grid_auto_columns": null,
            "margin": null,
            "display": null,
            "left": null
          }
        },
        "14672eae5ccb4efdb84f9e3834fd00ed": {
          "model_module": "@jupyter-widgets/controls",
          "model_name": "HBoxModel",
          "state": {
            "_view_name": "HBoxView",
            "_dom_classes": [],
            "_model_name": "HBoxModel",
            "_view_module": "@jupyter-widgets/controls",
            "_model_module_version": "1.5.0",
            "_view_count": null,
            "_view_module_version": "1.5.0",
            "box_style": "",
            "layout": "IPY_MODEL_ab7d9f8bb2854a66b6b09c1f384e1948",
            "_model_module": "@jupyter-widgets/controls",
            "children": [
              "IPY_MODEL_3df5c88ca0a04ee5ae887f92e61bbdd1",
              "IPY_MODEL_b9c0ada8a2684acb9b765bf15d7c7fd7"
            ]
          }
        },
        "ab7d9f8bb2854a66b6b09c1f384e1948": {
          "model_module": "@jupyter-widgets/base",
          "model_name": "LayoutModel",
          "state": {
            "_view_name": "LayoutView",
            "grid_template_rows": null,
            "right": null,
            "justify_content": null,
            "_view_module": "@jupyter-widgets/base",
            "overflow": null,
            "_model_module_version": "1.2.0",
            "_view_count": null,
            "flex_flow": null,
            "width": null,
            "min_width": null,
            "border": null,
            "align_items": null,
            "bottom": null,
            "_model_module": "@jupyter-widgets/base",
            "top": null,
            "grid_column": null,
            "overflow_y": null,
            "overflow_x": null,
            "grid_auto_flow": null,
            "grid_area": null,
            "grid_template_columns": null,
            "flex": null,
            "_model_name": "LayoutModel",
            "justify_items": null,
            "grid_row": null,
            "max_height": null,
            "align_content": null,
            "visibility": null,
            "align_self": null,
            "height": null,
            "min_height": null,
            "padding": null,
            "grid_auto_rows": null,
            "grid_gap": null,
            "max_width": null,
            "order": null,
            "_view_module_version": "1.2.0",
            "grid_template_areas": null,
            "object_position": null,
            "object_fit": null,
            "grid_auto_columns": null,
            "margin": null,
            "display": null,
            "left": null
          }
        },
        "3df5c88ca0a04ee5ae887f92e61bbdd1": {
          "model_module": "@jupyter-widgets/controls",
          "model_name": "FloatProgressModel",
          "state": {
            "_view_name": "ProgressView",
            "style": "IPY_MODEL_06093c67b88d484d8d855ae5f17daa27",
            "_dom_classes": [],
            "description": "100%",
            "_model_name": "FloatProgressModel",
            "bar_style": "success",
            "max": 50,
            "_view_module": "@jupyter-widgets/controls",
            "_model_module_version": "1.5.0",
            "value": 50,
            "_view_count": null,
            "_view_module_version": "1.5.0",
            "orientation": "horizontal",
            "min": 0,
            "description_tooltip": null,
            "_model_module": "@jupyter-widgets/controls",
            "layout": "IPY_MODEL_2011a95bd2b44fef8c68d682332ec7fc"
          }
        },
        "b9c0ada8a2684acb9b765bf15d7c7fd7": {
          "model_module": "@jupyter-widgets/controls",
          "model_name": "HTMLModel",
          "state": {
            "_view_name": "HTMLView",
            "style": "IPY_MODEL_5cf57a4ddf5a452ba2e235e3d2b616a1",
            "_dom_classes": [],
            "description": "",
            "_model_name": "HTMLModel",
            "placeholder": "​",
            "_view_module": "@jupyter-widgets/controls",
            "_model_module_version": "1.5.0",
            "value": " 50/50 [00:01&lt;00:00, 28.09it/s]",
            "_view_count": null,
            "_view_module_version": "1.5.0",
            "description_tooltip": null,
            "_model_module": "@jupyter-widgets/controls",
            "layout": "IPY_MODEL_0ac8ef0bacd64150a2bfb606a1eba6b4"
          }
        },
        "06093c67b88d484d8d855ae5f17daa27": {
          "model_module": "@jupyter-widgets/controls",
          "model_name": "ProgressStyleModel",
          "state": {
            "_view_name": "StyleView",
            "_model_name": "ProgressStyleModel",
            "description_width": "initial",
            "_view_module": "@jupyter-widgets/base",
            "_model_module_version": "1.5.0",
            "_view_count": null,
            "_view_module_version": "1.2.0",
            "bar_color": null,
            "_model_module": "@jupyter-widgets/controls"
          }
        },
        "2011a95bd2b44fef8c68d682332ec7fc": {
          "model_module": "@jupyter-widgets/base",
          "model_name": "LayoutModel",
          "state": {
            "_view_name": "LayoutView",
            "grid_template_rows": null,
            "right": null,
            "justify_content": null,
            "_view_module": "@jupyter-widgets/base",
            "overflow": null,
            "_model_module_version": "1.2.0",
            "_view_count": null,
            "flex_flow": null,
            "width": null,
            "min_width": null,
            "border": null,
            "align_items": null,
            "bottom": null,
            "_model_module": "@jupyter-widgets/base",
            "top": null,
            "grid_column": null,
            "overflow_y": null,
            "overflow_x": null,
            "grid_auto_flow": null,
            "grid_area": null,
            "grid_template_columns": null,
            "flex": null,
            "_model_name": "LayoutModel",
            "justify_items": null,
            "grid_row": null,
            "max_height": null,
            "align_content": null,
            "visibility": null,
            "align_self": null,
            "height": null,
            "min_height": null,
            "padding": null,
            "grid_auto_rows": null,
            "grid_gap": null,
            "max_width": null,
            "order": null,
            "_view_module_version": "1.2.0",
            "grid_template_areas": null,
            "object_position": null,
            "object_fit": null,
            "grid_auto_columns": null,
            "margin": null,
            "display": null,
            "left": null
          }
        },
        "5cf57a4ddf5a452ba2e235e3d2b616a1": {
          "model_module": "@jupyter-widgets/controls",
          "model_name": "DescriptionStyleModel",
          "state": {
            "_view_name": "StyleView",
            "_model_name": "DescriptionStyleModel",
            "description_width": "",
            "_view_module": "@jupyter-widgets/base",
            "_model_module_version": "1.5.0",
            "_view_count": null,
            "_view_module_version": "1.2.0",
            "_model_module": "@jupyter-widgets/controls"
          }
        },
        "0ac8ef0bacd64150a2bfb606a1eba6b4": {
          "model_module": "@jupyter-widgets/base",
          "model_name": "LayoutModel",
          "state": {
            "_view_name": "LayoutView",
            "grid_template_rows": null,
            "right": null,
            "justify_content": null,
            "_view_module": "@jupyter-widgets/base",
            "overflow": null,
            "_model_module_version": "1.2.0",
            "_view_count": null,
            "flex_flow": null,
            "width": null,
            "min_width": null,
            "border": null,
            "align_items": null,
            "bottom": null,
            "_model_module": "@jupyter-widgets/base",
            "top": null,
            "grid_column": null,
            "overflow_y": null,
            "overflow_x": null,
            "grid_auto_flow": null,
            "grid_area": null,
            "grid_template_columns": null,
            "flex": null,
            "_model_name": "LayoutModel",
            "justify_items": null,
            "grid_row": null,
            "max_height": null,
            "align_content": null,
            "visibility": null,
            "align_self": null,
            "height": null,
            "min_height": null,
            "padding": null,
            "grid_auto_rows": null,
            "grid_gap": null,
            "max_width": null,
            "order": null,
            "_view_module_version": "1.2.0",
            "grid_template_areas": null,
            "object_position": null,
            "object_fit": null,
            "grid_auto_columns": null,
            "margin": null,
            "display": null,
            "left": null
          }
        }
      }
    }
  },
  "cells": [
    {
      "cell_type": "markdown",
      "metadata": {
        "id": "myc1YNEN8vg9"
      },
      "source": [
        "# Time series - multivariate prediction, LSTM for continuous prediction\n",
        "\n",
        "In this example we will load prepared data and try to predict it with a lstm network producing continuous prediction\n",
        "\n",
        "This example is very similar to the last lstm example except the model is trained to predict one step into the future that can be used for latter predictions."
      ]
    },
    {
      "cell_type": "code",
      "metadata": {
        "id": "YXKp9-wo8vg_"
      },
      "source": [
        "%tensorflow_version 2.x\n",
        "%matplotlib inline\n",
        "\n",
        "import numpy as np\n",
        "import os\n",
        "from datetime import date\n",
        "import re\n",
        "\n",
        "import matplotlib.pyplot as plt\n",
        "\n",
        "import pandas as pd\n",
        "pd.options.display.max_rows = 30\n",
        "from pandas.plotting import register_matplotlib_converters\n",
        "register_matplotlib_converters()"
      ],
      "execution_count": 1,
      "outputs": []
    },
    {
      "cell_type": "code",
      "metadata": {
        "id": "IoISEasWDVgH",
        "outputId": "bd6c5e63-0164-456d-85e3-63af92e9a217",
        "colab": {
          "base_uri": "https://localhost:8080/",
          "height": 34
        }
      },
      "source": [
        "from google.colab import drive\n",
        "drive.mount('/content/drive/')"
      ],
      "execution_count": 2,
      "outputs": [
        {
          "output_type": "stream",
          "text": [
            "Mounted at /content/drive/\n"
          ],
          "name": "stdout"
        }
      ]
    },
    {
      "cell_type": "markdown",
      "metadata": {
        "id": "TfyFAYH4mMrR"
      },
      "source": [
        ""
      ]
    },
    {
      "cell_type": "code",
      "metadata": {
        "id": "IjbPWFF58vhD"
      },
      "source": [
        "PATH = '/content/drive/My Drive/ml-college/time-series-analysis/data/weather/training_set_temp_dp_press.p'\n",
        "training_df = pd.read_pickle(PATH)"
      ],
      "execution_count": 3,
      "outputs": []
    },
    {
      "cell_type": "markdown",
      "metadata": {
        "id": "jwd7sjT_8vhG"
      },
      "source": [
        "Notice that we would randomly sample the training data from the whole weather history.\n",
        "\n",
        "The `indices` array will contain starting date for each sample"
      ]
    },
    {
      "cell_type": "code",
      "metadata": {
        "id": "Ud_KrFMw8vhI"
      },
      "source": [
        "import random\n",
        "\n",
        "PREDICTION_LEN = 7\n",
        "HISTORY_LEN = 14\n",
        "NUM_SAMPLES = 2000\n",
        "NUM_INPUTS = len(training_df.columns)"
      ],
      "execution_count": 4,
      "outputs": []
    },
    {
      "cell_type": "markdown",
      "metadata": {
        "id": "BuE0pTJOj8sX"
      },
      "source": [
        "You can sample from the training set randomly:"
      ]
    },
    {
      "cell_type": "code",
      "metadata": {
        "id": "bd9yZlYPiFmG"
      },
      "source": [
        "indices = random.sample(range(0,len(training_df) - HISTORY_LEN - 1), NUM_SAMPLES)"
      ],
      "execution_count": 6,
      "outputs": []
    },
    {
      "cell_type": "markdown",
      "metadata": {
        "id": "L6pS1MU3mPpL"
      },
      "source": [
        "... or you can sample sequetially:"
      ]
    },
    {
      "cell_type": "code",
      "metadata": {
        "id": "04Kw7gSgjIKo"
      },
      "source": [
        "indices = list(range(0, len(training_df) - HISTORY_LEN - 1, HISTORY_LEN))\n",
        "random.shuffle(indices)"
      ],
      "execution_count": 7,
      "outputs": []
    },
    {
      "cell_type": "markdown",
      "metadata": {
        "id": "NyXAuhoe8vhL"
      },
      "source": [
        "In this example the target sequence is shifted one step into the future. The model need to accumulate information in its inner state to correctly predict it.\n",
        "\n",
        "Both input and output tensors remain in sequence form."
      ]
    },
    {
      "cell_type": "code",
      "metadata": {
        "id": "UAU3EJgu8vhM"
      },
      "source": [
        "ts_data = training_df.values\n",
        "ts_inputs = np.array([ts_data[i:i + HISTORY_LEN] for i in indices])\n",
        "ts_outputs = np.array([ts_data[i + 1: i + 1 + HISTORY_LEN] for i in indices])"
      ],
      "execution_count": 8,
      "outputs": []
    },
    {
      "cell_type": "code",
      "metadata": {
        "id": "uachuXlkR4Pb",
        "outputId": "6d76a031-3cd3-46d4-fd70-44e74cda2c56",
        "colab": {
          "base_uri": "https://localhost:8080/",
          "height": 34
        }
      },
      "source": [
        "len(ts_data)"
      ],
      "execution_count": 9,
      "outputs": [
        {
          "output_type": "execute_result",
          "data": {
            "text/plain": [
              "5842"
            ]
          },
          "metadata": {
            "tags": []
          },
          "execution_count": 9
        }
      ]
    },
    {
      "cell_type": "code",
      "metadata": {
        "id": "4NTdYUux8vhQ",
        "outputId": "599ec570-76c4-48a1-e597-d03200ccace0",
        "colab": {
          "base_uri": "https://localhost:8080/",
          "height": 289
        }
      },
      "source": [
        "from tensorflow.keras import Model\n",
        "from tensorflow.keras.layers import LSTM, GRU, Input, Dense\n",
        "\n",
        "inputs = Input(shape=ts_inputs.shape[1:])\n",
        "x = GRU(64, return_sequences=True, recurrent_activation='sigmoid')(inputs)\n",
        "x = GRU(32, return_sequences=True, recurrent_activation='sigmoid')(x)\n",
        "outputs = Dense(NUM_INPUTS)(x)\n",
        "\n",
        "model = Model(inputs, outputs)\n",
        "model.compile(optimizer='adam', loss='mse')\n",
        "model.summary()"
      ],
      "execution_count": 10,
      "outputs": [
        {
          "output_type": "stream",
          "text": [
            "Model: \"functional_1\"\n",
            "_________________________________________________________________\n",
            "Layer (type)                 Output Shape              Param #   \n",
            "=================================================================\n",
            "input_1 (InputLayer)         [(None, 14, 4)]           0         \n",
            "_________________________________________________________________\n",
            "gru (GRU)                    (None, 14, 64)            13440     \n",
            "_________________________________________________________________\n",
            "gru_1 (GRU)                  (None, 14, 32)            9408      \n",
            "_________________________________________________________________\n",
            "dense (Dense)                (None, 14, 4)             132       \n",
            "=================================================================\n",
            "Total params: 22,980\n",
            "Trainable params: 22,980\n",
            "Non-trainable params: 0\n",
            "_________________________________________________________________\n"
          ],
          "name": "stdout"
        }
      ]
    },
    {
      "cell_type": "code",
      "metadata": {
        "scrolled": false,
        "id": "Qya_eenr8vhT"
      },
      "source": [
        "model.fit(ts_inputs, ts_outputs, validation_split=0.1, epochs=200)"
      ],
      "execution_count": null,
      "outputs": []
    },
    {
      "cell_type": "code",
      "metadata": {
        "id": "3PRU5Vuz8vhX"
      },
      "source": [
        "model.save_weights('model_plus1_predition.h5')"
      ],
      "execution_count": 12,
      "outputs": []
    },
    {
      "cell_type": "markdown",
      "metadata": {
        "id": "gCoFSQEc8vhe"
      },
      "source": [
        "## Prediction phase\n",
        "\n",
        "To test the prediction, we will take a particular date and feed the history into the network.\n",
        "\n",
        "The network will predict one step into the future and we will take this prediction and feed it back to the network. In this way, we can predict multiple (and variable) steps into the future\n",
        "\n",
        "Notice that the model is `stateful` i.e. the hidden state does not reset after the prediction."
      ]
    },
    {
      "cell_type": "code",
      "metadata": {
        "id": "uXQkl9Dy8vha",
        "outputId": "8b68e86b-8322-42a5-b656-d77e6a2908be",
        "colab": {
          "base_uri": "https://localhost:8080/",
          "height": 289
        }
      },
      "source": [
        "inputs = Input(batch_shape=(1, 1, NUM_INPUTS))\n",
        "x = GRU(64, return_sequences=True, stateful=True)(inputs)\n",
        "x = GRU(32, return_sequences=True, stateful=True)(x)\n",
        "outputs = Dense(NUM_INPUTS)(x)\n",
        "\n",
        "pred_model = Model(inputs, outputs)\n",
        "pred_model.summary()\n",
        "pred_model.load_weights('model_plus1_predition.h5')\n",
        "\n",
        "\n",
        "def self_predict(prediction_input):\n",
        "\n",
        "    pred_model.reset_states()\n",
        "    for i in range(0, HISTORY_LEN):\n",
        "        prediction = pred_model.predict(prediction_input.values[i].reshape(1, 1, NUM_INPUTS))\n",
        "        \n",
        "    self_predicition = [np.copy(prediction)]\n",
        "\n",
        "    for i in range(0, PREDICTION_LEN - 1):\n",
        "        prediction = pred_model.predict(self_predicition[i])\n",
        "        self_predicition.append(np.copy(prediction))\n",
        "    \n",
        "    return self_predicition"
      ],
      "execution_count": 13,
      "outputs": [
        {
          "output_type": "stream",
          "text": [
            "Model: \"functional_3\"\n",
            "_________________________________________________________________\n",
            "Layer (type)                 Output Shape              Param #   \n",
            "=================================================================\n",
            "input_2 (InputLayer)         [(1, 1, 4)]               0         \n",
            "_________________________________________________________________\n",
            "gru_2 (GRU)                  (1, 1, 64)                13440     \n",
            "_________________________________________________________________\n",
            "gru_3 (GRU)                  (1, 1, 32)                9408      \n",
            "_________________________________________________________________\n",
            "dense_1 (Dense)              (1, 1, 4)                 132       \n",
            "=================================================================\n",
            "Total params: 22,980\n",
            "Trainable params: 22,980\n",
            "Non-trainable params: 0\n",
            "_________________________________________________________________\n"
          ],
          "name": "stdout"
        }
      ]
    },
    {
      "cell_type": "markdown",
      "metadata": {
        "id": "NV6Tvrw9mmeK"
      },
      "source": [
        "## Evaluation\n",
        "\n",
        "First, let's see how a single sample from testing set look like:"
      ]
    },
    {
      "cell_type": "code",
      "metadata": {
        "id": "VZIAGl3P8vhf"
      },
      "source": [
        "import datetime\n",
        "from datetime import timedelta"
      ],
      "execution_count": 14,
      "outputs": []
    },
    {
      "cell_type": "code",
      "metadata": {
        "id": "H-f0u2-bn82_"
      },
      "source": [
        "PATH = '/content/drive/My Drive/ml-college/time-series-analysis/data/weather/testing_set_temp_dp_press.p'\n",
        "testing_df = pd.read_pickle(PATH)"
      ],
      "execution_count": 15,
      "outputs": []
    },
    {
      "cell_type": "code",
      "metadata": {
        "id": "9_MIsPpiWxec",
        "outputId": "b3eaa52c-fb53-4ed7-f713-c89ad7d7e7ab",
        "colab": {
          "base_uri": "https://localhost:8080/",
          "height": 102
        }
      },
      "source": [
        "testing_df.loc['2017-01-01']"
      ],
      "execution_count": 32,
      "outputs": [
        {
          "output_type": "execute_result",
          "data": {
            "text/plain": [
              "Temp[av]       0.224806\n",
              "DPoint[av]     0.341880\n",
              "SLPress[av]    0.712121\n",
              "Precip[0-1]    0.000000\n",
              "Name: 2017-01-01 00:00:00, dtype: float64"
            ]
          },
          "metadata": {
            "tags": []
          },
          "execution_count": 32
        }
      ]
    },
    {
      "cell_type": "code",
      "metadata": {
        "id": "j_f61tvv8vhm"
      },
      "source": [
        "def show_prediction(prediction_date):\n",
        "    \n",
        "    self_predicition = self_predict(testing_df[prediction_date - timedelta(days=HISTORY_LEN - 1): prediction_date])\n",
        "\n",
        "    history = testing_df[prediction_date - timedelta(days=HISTORY_LEN - 1): prediction_date + timedelta(days=PREDICTION_LEN)]\n",
        "    prediction_df = pd.DataFrame(\n",
        "        np.vstack(self_predicition).reshape((PREDICTION_LEN, NUM_INPUTS)), \n",
        "        index=pd.date_range(start=prediction_date + timedelta(days=1), freq='D', periods=PREDICTION_LEN)\n",
        "    )\n",
        "\n",
        "    plt.figure(figsize = (12, 6))\n",
        "    history_plt = plt.plot(history.iloc[:,0:3], linestyle='--')\n",
        "    plt.plot(history.iloc[:,3], 'oc')\n",
        "    plt.plot(prediction_df.iloc[:,0], color=history_plt[0].get_color())\n",
        "    plt.plot(prediction_df.iloc[:,1], color=history_plt[1].get_color())\n",
        "    plt.plot(prediction_df.iloc[:,2], color=history_plt[2].get_color())\n",
        "    plt.plot(prediction_df.iloc[:,3], 'or')\n",
        "    plt.show()"
      ],
      "execution_count": 33,
      "outputs": []
    },
    {
      "cell_type": "code",
      "metadata": {
        "id": "DCPi4ewN8vhi",
        "outputId": "8b953023-14af-4dc1-e3d2-66de8a748459",
        "colab": {
          "base_uri": "https://localhost:8080/",
          "height": 374
        }
      },
      "source": [
        "show_prediction(date(2017, 1, 21))"
      ],
      "execution_count": 42,
      "outputs": [
        {
          "output_type": "display_data",
          "data": {
            "image/png": "[encoded data removed]",
            "text/plain": [
              "<Figure size 864x432 with 1 Axes>"
            ]
          },
          "metadata": {
            "tags": [],
            "needs_background": "light"
          }
        }
      ]
    },
    {
      "cell_type": "markdown",
      "metadata": {
        "id": "PnQVvhLWPnVm"
      },
      "source": [
        "\n",
        "... now, let's do some quantitative measurements against a simple baseline (constant model)"
      ]
    },
    {
      "cell_type": "code",
      "metadata": {
        "id": "_iwh6HQ3xrrw"
      },
      "source": [
        "from tqdm.notebook import tqdm\n",
        "\n",
        "def evaluate_one(prediction_date):\n",
        "    prediction_input = testing_df[prediction_date - timedelta(days=HISTORY_LEN - 1): prediction_date]\n",
        "\n",
        "    self_predicition = self_predict(prediction_input)\n",
        "\n",
        "    prediction = np.vstack(self_predicition).reshape((PREDICTION_LEN, NUM_INPUTS))\n",
        "    ground_truth = testing_df[prediction_date + timedelta(days=1) : prediction_date + timedelta(days=PREDICTION_LEN)].values\n",
        "    baseline_prediction = np.tile(testing_df.loc[prediction_date:prediction_date], (PREDICTION_LEN, 1))\n",
        "\n",
        "    return (\n",
        "        np.sum((prediction[:,:3] - ground_truth[:,:3]) ** 2), \n",
        "        np.sum((baseline_prediction[:,:3] - ground_truth[:,:3]) ** 2)\n",
        "    )\n",
        "\n",
        "def evaluate_all():\n",
        "    baseline_error = 0\n",
        "    model_error = 0\n",
        "\n",
        "    for i in tqdm(range(2, 52)):\n",
        "        prediction_date = date(2016,12,31) + timedelta(days=i * PREDICTION_LEN)\n",
        "        model_e, baseline_e = evaluate_one(prediction_date)\n",
        "        model_error += model_e\n",
        "        baseline_error += baseline_e\n",
        "\n",
        "    return model_error, baseline_error"
      ],
      "execution_count": 59,
      "outputs": []
    },
    {
      "cell_type": "code",
      "metadata": {
        "id": "Lu2icWKhPE0_",
        "outputId": "8fb9053c-1672-40c3-a5b5-1df04d55b89f",
        "colab": {
          "base_uri": "https://localhost:8080/",
          "height": 83,
          "referenced_widgets": [
            "cab7cc1d206a4c5bb02dce2ae0e7a002",
            "0e72b2da123c4b94b3d1a9bab5807b50",
            "fa04d871c3ee491d8cd8a8a5820d031c",
            "3a817db30abb4a7480eb44bb1519b272",
            "118c7debb6ee4bd4b79f8880ae434913",
            "5cffbf6b2afb46c580463911e45a86a2",
            "615d53ce56e846aaa4543c214757e498",
            "125f9289af83458081a703144aa03f56"
          ]
        }
      },
      "source": [
        "evaluate_all()"
      ],
      "execution_count": 60,
      "outputs": [
        {
          "output_type": "display_data",
          "data": {
            "application/vnd.jupyter.widget-view+json": {
              "model_id": "cab7cc1d206a4c5bb02dce2ae0e7a002",
              "version_minor": 0,
              "version_major": 2
            },
            "text/plain": [
              "HBox(children=(FloatProgress(value=0.0, max=50.0), HTML(value='')))"
            ]
          },
          "metadata": {
            "tags": []
          }
        },
        {
          "output_type": "stream",
          "text": [
            "\n"
          ],
          "name": "stdout"
        },
        {
          "output_type": "execute_result",
          "data": {
            "text/plain": [
              "(10.193257006648082, 9.392287473402634)"
            ]
          },
          "metadata": {
            "tags": []
          },
          "execution_count": 60
        }
      ]
    },
    {
      "cell_type": "markdown",
      "metadata": {
        "id": "C-3nmnypM6sL"
      },
      "source": [
        "## Multiple loss functions\n",
        "\n",
        "To correctly handle this example, we should be training the network with multiple loss fuctions as prediction of precipitation is a binary classification task."
      ]
    },
    {
      "cell_type": "code",
      "metadata": {
        "id": "ewXTl7lGNZDk",
        "outputId": "fc5c3610-5116-4bf8-fc18-5ff8e5bfe8b7",
        "colab": {
          "base_uri": "https://localhost:8080/",
          "height": 51
        }
      },
      "source": [
        "ts_outputs_1 = np.array([ts_data[i + 1: i + 1 + HISTORY_LEN, 0:3] for i in indices])\n",
        "ts_outputs_2 = np.array([ts_data[i + 1: i + 1 + HISTORY_LEN, 3] for i in indices])\n",
        "\n",
        "print(ts_outputs_1.shape)\n",
        "print(ts_outputs_2.shape)"
      ],
      "execution_count": 61,
      "outputs": [
        {
          "output_type": "stream",
          "text": [
            "(417, 14, 3)\n",
            "(417, 14)\n"
          ],
          "name": "stdout"
        }
      ]
    },
    {
      "cell_type": "code",
      "metadata": {
        "id": "OaISjoPMODKO",
        "outputId": "ba5d52da-df84-4250-9912-0b6c291e648d",
        "colab": {
          "base_uri": "https://localhost:8080/",
          "height": 323
        }
      },
      "source": [
        "inputs = Input(shape=ts_inputs.shape[1:])\n",
        "x = GRU(64, return_sequences=True, recurrent_activation='sigmoid')(inputs)\n",
        "x = GRU(32, return_sequences=True, recurrent_activation='sigmoid')(x)\n",
        "outputs_1 = Dense(3)(x)\n",
        "outputs_2 = Dense(1, activation=\"sigmoid\")(x)\n",
        "\n",
        "model = Model(inputs, [outputs_1, outputs_2])\n",
        "model.compile(optimizer='adam', loss=['mse', 'binary_crossentropy'], loss_weights=[1.0, 0.01])\n",
        "model.summary()"
      ],
      "execution_count": 62,
      "outputs": [
        {
          "output_type": "stream",
          "text": [
            "Model: \"functional_5\"\n",
            "__________________________________________________________________________________________________\n",
            "Layer (type)                    Output Shape         Param #     Connected to                     \n",
            "==================================================================================================\n",
            "input_3 (InputLayer)            [(None, 14, 4)]      0                                            \n",
            "__________________________________________________________________________________________________\n",
            "gru_4 (GRU)                     (None, 14, 64)       13440       input_3[0][0]                    \n",
            "__________________________________________________________________________________________________\n",
            "gru_5 (GRU)                     (None, 14, 32)       9408        gru_4[0][0]                      \n",
            "__________________________________________________________________________________________________\n",
            "dense_2 (Dense)                 (None, 14, 3)        99          gru_5[0][0]                      \n",
            "__________________________________________________________________________________________________\n",
            "dense_3 (Dense)                 (None, 14, 1)        33          gru_5[0][0]                      \n",
            "==================================================================================================\n",
            "Total params: 22,980\n",
            "Trainable params: 22,980\n",
            "Non-trainable params: 0\n",
            "__________________________________________________________________________________________________\n"
          ],
          "name": "stdout"
        }
      ]
    },
    {
      "cell_type": "code",
      "metadata": {
        "id": "-b7GsX3nPsYy"
      },
      "source": [
        "model.fit(ts_inputs, [ts_outputs_1, ts_outputs_2], validation_split=0.1, epochs=200)"
      ],
      "execution_count": null,
      "outputs": []
    },
    {
      "cell_type": "code",
      "metadata": {
        "id": "h2Qri-ETQhPs"
      },
      "source": [
        "model.save_weights('model_plus1_mult_predition.h5')"
      ],
      "execution_count": 69,
      "outputs": []
    },
    {
      "cell_type": "code",
      "metadata": {
        "id": "XLABkzU0Qbw6",
        "outputId": "523cb578-40fa-4eec-974c-570bde031da4",
        "colab": {
          "base_uri": "https://localhost:8080/",
          "height": 323
        }
      },
      "source": [
        "inputs = Input(batch_shape=(1, 1, NUM_INPUTS))\n",
        "x = GRU(64, return_sequences=True, stateful=True)(inputs)\n",
        "x = GRU(32, return_sequences=True, stateful=True)(x)\n",
        "outputs_1 = Dense(3)(x)\n",
        "outputs_2 = Dense(1, activation='sigmoid')(x)\n",
        "\n",
        "pred_model = Model(inputs, [outputs_1, outputs_2])\n",
        "pred_model.summary()\n",
        "pred_model.load_weights('model_plus1_mult_predition.h5')\n",
        "\n",
        "def self_predict(prediction_input):\n",
        "\n",
        "    pred_model.reset_states()\n",
        "    for i in range(0, HISTORY_LEN):\n",
        "        prediction_1, prediction_2 = pred_model.predict(prediction_input.values[i].reshape(1, 1, NUM_INPUTS))\n",
        "\n",
        "    self_predicition = [np.concatenate((prediction_1, prediction_2), axis=-1)]\n",
        "\n",
        "    for i in range(0, PREDICTION_LEN - 1):\n",
        "        prediction_1, prediction_2 = pred_model.predict(self_predicition[i])\n",
        "\n",
        "        self_predicition.append(np.concatenate((prediction_1, prediction_2), axis=-1))\n",
        "    \n",
        "    return self_predicition"
      ],
      "execution_count": 70,
      "outputs": [
        {
          "output_type": "stream",
          "text": [
            "Model: \"functional_9\"\n",
            "__________________________________________________________________________________________________\n",
            "Layer (type)                    Output Shape         Param #     Connected to                     \n",
            "==================================================================================================\n",
            "input_5 (InputLayer)            [(1, 1, 4)]          0                                            \n",
            "__________________________________________________________________________________________________\n",
            "gru_8 (GRU)                     (1, 1, 64)           13440       input_5[0][0]                    \n",
            "__________________________________________________________________________________________________\n",
            "gru_9 (GRU)                     (1, 1, 32)           9408        gru_8[0][0]                      \n",
            "__________________________________________________________________________________________________\n",
            "dense_6 (Dense)                 (1, 1, 3)            99          gru_9[0][0]                      \n",
            "__________________________________________________________________________________________________\n",
            "dense_7 (Dense)                 (1, 1, 1)            33          gru_9[0][0]                      \n",
            "==================================================================================================\n",
            "Total params: 22,980\n",
            "Trainable params: 22,980\n",
            "Non-trainable params: 0\n",
            "__________________________________________________________________________________________________\n"
          ],
          "name": "stdout"
        }
      ]
    },
    {
      "cell_type": "code",
      "metadata": {
        "id": "L0kXwdi1QSV8",
        "outputId": "f5641be3-c9a0-42f9-f44b-ee306de70194",
        "colab": {
          "base_uri": "https://localhost:8080/",
          "height": 374
        }
      },
      "source": [
        "show_prediction(date(2017, 1, 21))"
      ],
      "execution_count": 71,
      "outputs": [
        {
          "output_type": "display_data",
          "data": {
            "image/png": "[encoded data removed]",
            "text/plain": [
              "<Figure size 864x432 with 1 Axes>"
            ]
          },
          "metadata": {
            "tags": [],
            "needs_background": "light"
          }
        }
      ]
    },
    {
      "cell_type": "code",
      "metadata": {
        "id": "JAdCiApsP3mX",
        "outputId": "e44b7b31-c9a0-4881-cefc-21f575011cfb",
        "colab": {
          "base_uri": "https://localhost:8080/",
          "height": 83,
          "referenced_widgets": [
            "3837a2fd8db34f68bfb88444bb2671de",
            "565c4be697d24d738b41095e731938e7",
            "b95341f5cb534407a5f0ce1000217191",
            "280887f925f546c7b57bfb6addbb778b",
            "429508b2a3094a06828d8fe0ffa3292c",
            "975f7403677b491eb0a7b224f7114afa",
            "df008ac2b78c412085f446f1fe08a314",
            "1cbcfa233fb845ae83b34abf7198f475"
          ]
        }
      },
      "source": [
        "evaluate_all()"
      ],
      "execution_count": 72,
      "outputs": [
        {
          "output_type": "display_data",
          "data": {
            "application/vnd.jupyter.widget-view+json": {
              "model_id": "3837a2fd8db34f68bfb88444bb2671de",
              "version_minor": 0,
              "version_major": 2
            },
            "text/plain": [
              "HBox(children=(FloatProgress(value=0.0, max=50.0), HTML(value='')))"
            ]
          },
          "metadata": {
            "tags": []
          }
        },
        {
          "output_type": "stream",
          "text": [
            "\n"
          ],
          "name": "stdout"
        },
        {
          "output_type": "execute_result",
          "data": {
            "text/plain": [
              "(6.988603190304988, 9.392287473402634)"
            ]
          },
          "metadata": {
            "tags": []
          },
          "execution_count": 72
        }
      ]
    },
    {
      "cell_type": "markdown",
      "metadata": {
        "id": "cBHYHNpsQd9d"
      },
      "source": [
        "## Encoder-Decoder example\n",
        "\n",
        "Finally, let's see if we can make a better model for long-term prediction than the previous self-feeded +1 day. We are going to use the seq2seq model usually seen in machine-translation tasks (see https://keras.io/examples/lstm_seq2seq/)"
      ]
    },
    {
      "cell_type": "code",
      "metadata": {
        "id": "TgKWSxx0QdJJ",
        "outputId": "8dd7d3e9-a52c-46e7-c2bc-d054253423fd",
        "colab": {
          "base_uri": "https://localhost:8080/",
          "height": 357
        }
      },
      "source": [
        "inputs = Input(shape=ts_inputs.shape[1:])\n",
        "_, states_h, states_c = LSTM(128, return_state=True)(inputs)\n",
        "encoder_states = [states_h, states_c]\n",
        "\n",
        "x = LSTM(128, return_sequences=True)(inputs, initial_state=encoder_states)\n",
        "outputs_1 = Dense(3)(x)\n",
        "outputs_2 = Dense(1, activation=\"sigmoid\")(x)\n",
        "\n",
        "model = Model(inputs, [outputs_1, outputs_2])\n",
        "model.compile(optimizer='adam', loss=['mse', 'binary_crossentropy'], loss_weights=[1.0, 0.01])\n",
        "model.summary()"
      ],
      "execution_count": 80,
      "outputs": [
        {
          "output_type": "stream",
          "text": [
            "Model: \"functional_13\"\n",
            "__________________________________________________________________________________________________\n",
            "Layer (type)                    Output Shape         Param #     Connected to                     \n",
            "==================================================================================================\n",
            "input_7 (InputLayer)            [(None, 14, 4)]      0                                            \n",
            "__________________________________________________________________________________________________\n",
            "lstm_2 (LSTM)                   [(None, 128), (None, 68096       input_7[0][0]                    \n",
            "__________________________________________________________________________________________________\n",
            "lstm_3 (LSTM)                   (None, 14, 128)      68096       input_7[0][0]                    \n",
            "                                                                 lstm_2[0][1]                     \n",
            "                                                                 lstm_2[0][2]                     \n",
            "__________________________________________________________________________________________________\n",
            "dense_10 (Dense)                (None, 14, 3)        387         lstm_3[0][0]                     \n",
            "__________________________________________________________________________________________________\n",
            "dense_11 (Dense)                (None, 14, 1)        129         lstm_3[0][0]                     \n",
            "==================================================================================================\n",
            "Total params: 136,708\n",
            "Trainable params: 136,708\n",
            "Non-trainable params: 0\n",
            "__________________________________________________________________________________________________\n"
          ],
          "name": "stdout"
        }
      ]
    },
    {
      "cell_type": "code",
      "metadata": {
        "id": "hcKyHG2zWzGi",
        "outputId": "9ac757ac-a2fa-4e34-e2ea-fb4c1dfdb40b",
        "colab": {
          "base_uri": "https://localhost:8080/",
          "height": 68
        }
      },
      "source": [
        "indices = list(range(0, len(training_df) - 2 * HISTORY_LEN))\n",
        "random.shuffle(indices)\n",
        "\n",
        "ts_inputs = np.array([ts_data[i:i + HISTORY_LEN] for i in indices])\n",
        "ts_outputs_1 = np.array([ts_data[i + HISTORY_LEN: i + 2 * HISTORY_LEN, 0:3] for i in indices])\n",
        "ts_outputs_2 = np.array([ts_data[i + HISTORY_LEN: i + 2 * HISTORY_LEN, 3] for i in indices])\n",
        "\n",
        "print(ts_inputs.shape)\n",
        "print(ts_outputs_1.shape)\n",
        "print(ts_outputs_2.shape)"
      ],
      "execution_count": 96,
      "outputs": [
        {
          "output_type": "stream",
          "text": [
            "(5814, 14, 4)\n",
            "(5814, 14, 3)\n",
            "(5814, 14)\n"
          ],
          "name": "stdout"
        }
      ]
    },
    {
      "cell_type": "code",
      "metadata": {
        "id": "FzCz3lAQVoSd"
      },
      "source": [
        "model.fit(ts_inputs, [ts_outputs_1, ts_outputs_2], validation_split=0.1, epochs=200)"
      ],
      "execution_count": null,
      "outputs": []
    },
    {
      "cell_type": "code",
      "metadata": {
        "id": "otiVQrN-YNaO"
      },
      "source": [
        "def self_predict(prediction_input):\n",
        "    prediction_1, prediction_2 = model.predict(prediction_input.values.reshape(1, HISTORY_LEN, NUM_INPUTS))\n",
        "    return np.concatenate((prediction_1, prediction_2), axis=-1)[0,:PREDICTION_LEN,:]    "
      ],
      "execution_count": 98,
      "outputs": []
    },
    {
      "cell_type": "code",
      "metadata": {
        "id": "5maWX5AmYRuR",
        "outputId": "a462b0e4-15f0-4f65-849e-65cf74aa6bea",
        "colab": {
          "base_uri": "https://localhost:8080/",
          "height": 374
        }
      },
      "source": [
        "show_prediction(date(2017, 1, 21))"
      ],
      "execution_count": 99,
      "outputs": [
        {
          "output_type": "display_data",
          "data": {
            "image/png": "[encoded data removed]",
            "text/plain": [
              "<Figure size 864x432 with 1 Axes>"
            ]
          },
          "metadata": {
            "tags": [],
            "needs_background": "light"
          }
        }
      ]
    },
    {
      "cell_type": "code",
      "metadata": {
        "id": "lUzcL92bYyJL",
        "outputId": "70d6f139-c197-4686-bf60-56202063b0f5",
        "colab": {
          "base_uri": "https://localhost:8080/",
          "height": 83,
          "referenced_widgets": [
            "14672eae5ccb4efdb84f9e3834fd00ed",
            "ab7d9f8bb2854a66b6b09c1f384e1948",
            "3df5c88ca0a04ee5ae887f92e61bbdd1",
            "b9c0ada8a2684acb9b765bf15d7c7fd7",
            "06093c67b88d484d8d855ae5f17daa27",
            "2011a95bd2b44fef8c68d682332ec7fc",
            "5cf57a4ddf5a452ba2e235e3d2b616a1",
            "0ac8ef0bacd64150a2bfb606a1eba6b4"
          ]
        }
      },
      "source": [
        "evaluate_all()"
      ],
      "execution_count": 100,
      "outputs": [
        {
          "output_type": "display_data",
          "data": {
            "application/vnd.jupyter.widget-view+json": {
              "model_id": "14672eae5ccb4efdb84f9e3834fd00ed",
              "version_minor": 0,
              "version_major": 2
            },
            "text/plain": [
              "HBox(children=(FloatProgress(value=0.0, max=50.0), HTML(value='')))"
            ]
          },
          "metadata": {
            "tags": []
          }
        },
        {
          "output_type": "stream",
          "text": [
            "\n"
          ],
          "name": "stdout"
        },
        {
          "output_type": "execute_result",
          "data": {
            "text/plain": [
              "(10.16051486232056, 9.392287473402634)"
            ]
          },
          "metadata": {
            "tags": []
          },
          "execution_count": 100
        }
      ]
    }
  ]
}