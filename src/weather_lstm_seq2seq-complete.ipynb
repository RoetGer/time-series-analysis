{
  "nbformat": 4,
  "nbformat_minor": 0,
  "metadata": {
    "kernelspec": {
      "name": "python3",
      "display_name": "Python 3"
    },
    "language_info": {
      "codemirror_mode": {
        "name": "ipython",
        "version": 3
      },
      "file_extension": ".py",
      "mimetype": "text/x-python",
      "name": "python",
      "nbconvert_exporter": "python",
      "pygments_lexer": "ipython3",
      "version": "3.5.2"
    },
    "colab": {
      "name": "weather_lstm_seq2seq-complete.ipynb",
      "provenance": [],
      "collapsed_sections": [],
      "toc_visible": true
    },
    "accelerator": "GPU",
    "widgets": {
      "application/vnd.jupyter.widget-state+json": {
        "ff7a5b7606de4691aca10b3747b3daee": {
          "model_module": "@jupyter-widgets/controls",
          "model_name": "HBoxModel",
          "state": {
            "_view_name": "HBoxView",
            "_dom_classes": [],
            "_model_name": "HBoxModel",
            "_view_module": "@jupyter-widgets/controls",
            "_model_module_version": "1.5.0",
            "_view_count": null,
            "_view_module_version": "1.5.0",
            "box_style": "",
            "layout": "IPY_MODEL_d2bea3423b594e02b8f95f4c4d8a9e37",
            "_model_module": "@jupyter-widgets/controls",
            "children": [
              "IPY_MODEL_dc96d10bfaba468c815d8d917e90796a",
              "IPY_MODEL_97b1fe179a774848ab785414ba75779c"
            ]
          }
        },
        "d2bea3423b594e02b8f95f4c4d8a9e37": {
          "model_module": "@jupyter-widgets/base",
          "model_name": "LayoutModel",
          "state": {
            "_view_name": "LayoutView",
            "grid_template_rows": null,
            "right": null,
            "justify_content": null,
            "_view_module": "@jupyter-widgets/base",
            "overflow": null,
            "_model_module_version": "1.2.0",
            "_view_count": null,
            "flex_flow": null,
            "width": null,
            "min_width": null,
            "border": null,
            "align_items": null,
            "bottom": null,
            "_model_module": "@jupyter-widgets/base",
            "top": null,
            "grid_column": null,
            "overflow_y": null,
            "overflow_x": null,
            "grid_auto_flow": null,
            "grid_area": null,
            "grid_template_columns": null,
            "flex": null,
            "_model_name": "LayoutModel",
            "justify_items": null,
            "grid_row": null,
            "max_height": null,
            "align_content": null,
            "visibility": null,
            "align_self": null,
            "height": null,
            "min_height": null,
            "padding": null,
            "grid_auto_rows": null,
            "grid_gap": null,
            "max_width": null,
            "order": null,
            "_view_module_version": "1.2.0",
            "grid_template_areas": null,
            "object_position": null,
            "object_fit": null,
            "grid_auto_columns": null,
            "margin": null,
            "display": null,
            "left": null
          }
        },
        "dc96d10bfaba468c815d8d917e90796a": {
          "model_module": "@jupyter-widgets/controls",
          "model_name": "IntProgressModel",
          "state": {
            "_view_name": "ProgressView",
            "style": "IPY_MODEL_c99919e2373149a292f0af062efa3d4f",
            "_dom_classes": [],
            "description": "",
            "_model_name": "IntProgressModel",
            "bar_style": "success",
            "max": 50,
            "_view_module": "@jupyter-widgets/controls",
            "_model_module_version": "1.5.0",
            "value": 50,
            "_view_count": null,
            "_view_module_version": "1.5.0",
            "orientation": "horizontal",
            "min": 0,
            "description_tooltip": null,
            "_model_module": "@jupyter-widgets/controls",
            "layout": "IPY_MODEL_534e8f34508741b2bd83a8483dc842d9"
          }
        },
        "97b1fe179a774848ab785414ba75779c": {
          "model_module": "@jupyter-widgets/controls",
          "model_name": "HTMLModel",
          "state": {
            "_view_name": "HTMLView",
            "style": "IPY_MODEL_2130f1ee8e0c47309b5bfd77f764f368",
            "_dom_classes": [],
            "description": "",
            "_model_name": "HTMLModel",
            "placeholder": "​",
            "_view_module": "@jupyter-widgets/controls",
            "_model_module_version": "1.5.0",
            "value": "100% 50/50 [00:24&lt;00:00,  2.03it/s]",
            "_view_count": null,
            "_view_module_version": "1.5.0",
            "description_tooltip": null,
            "_model_module": "@jupyter-widgets/controls",
            "layout": "IPY_MODEL_4fa0d66f98dc4a1492fd0b99f0d8b2d2"
          }
        },
        "c99919e2373149a292f0af062efa3d4f": {
          "model_module": "@jupyter-widgets/controls",
          "model_name": "ProgressStyleModel",
          "state": {
            "_view_name": "StyleView",
            "_model_name": "ProgressStyleModel",
            "description_width": "",
            "_view_module": "@jupyter-widgets/base",
            "_model_module_version": "1.5.0",
            "_view_count": null,
            "_view_module_version": "1.2.0",
            "bar_color": null,
            "_model_module": "@jupyter-widgets/controls"
          }
        },
        "534e8f34508741b2bd83a8483dc842d9": {
          "model_module": "@jupyter-widgets/base",
          "model_name": "LayoutModel",
          "state": {
            "_view_name": "LayoutView",
            "grid_template_rows": null,
            "right": null,
            "justify_content": null,
            "_view_module": "@jupyter-widgets/base",
            "overflow": null,
            "_model_module_version": "1.2.0",
            "_view_count": null,
            "flex_flow": null,
            "width": null,
            "min_width": null,
            "border": null,
            "align_items": null,
            "bottom": null,
            "_model_module": "@jupyter-widgets/base",
            "top": null,
            "grid_column": null,
            "overflow_y": null,
            "overflow_x": null,
            "grid_auto_flow": null,
            "grid_area": null,
            "grid_template_columns": null,
            "flex": null,
            "_model_name": "LayoutModel",
            "justify_items": null,
            "grid_row": null,
            "max_height": null,
            "align_content": null,
            "visibility": null,
            "align_self": null,
            "height": null,
            "min_height": null,
            "padding": null,
            "grid_auto_rows": null,
            "grid_gap": null,
            "max_width": null,
            "order": null,
            "_view_module_version": "1.2.0",
            "grid_template_areas": null,
            "object_position": null,
            "object_fit": null,
            "grid_auto_columns": null,
            "margin": null,
            "display": null,
            "left": null
          }
        },
        "2130f1ee8e0c47309b5bfd77f764f368": {
          "model_module": "@jupyter-widgets/controls",
          "model_name": "DescriptionStyleModel",
          "state": {
            "_view_name": "StyleView",
            "_model_name": "DescriptionStyleModel",
            "description_width": "",
            "_view_module": "@jupyter-widgets/base",
            "_model_module_version": "1.5.0",
            "_view_count": null,
            "_view_module_version": "1.2.0",
            "_model_module": "@jupyter-widgets/controls"
          }
        },
        "4fa0d66f98dc4a1492fd0b99f0d8b2d2": {
          "model_module": "@jupyter-widgets/base",
          "model_name": "LayoutModel",
          "state": {
            "_view_name": "LayoutView",
            "grid_template_rows": null,
            "right": null,
            "justify_content": null,
            "_view_module": "@jupyter-widgets/base",
            "overflow": null,
            "_model_module_version": "1.2.0",
            "_view_count": null,
            "flex_flow": null,
            "width": null,
            "min_width": null,
            "border": null,
            "align_items": null,
            "bottom": null,
            "_model_module": "@jupyter-widgets/base",
            "top": null,
            "grid_column": null,
            "overflow_y": null,
            "overflow_x": null,
            "grid_auto_flow": null,
            "grid_area": null,
            "grid_template_columns": null,
            "flex": null,
            "_model_name": "LayoutModel",
            "justify_items": null,
            "grid_row": null,
            "max_height": null,
            "align_content": null,
            "visibility": null,
            "align_self": null,
            "height": null,
            "min_height": null,
            "padding": null,
            "grid_auto_rows": null,
            "grid_gap": null,
            "max_width": null,
            "order": null,
            "_view_module_version": "1.2.0",
            "grid_template_areas": null,
            "object_position": null,
            "object_fit": null,
            "grid_auto_columns": null,
            "margin": null,
            "display": null,
            "left": null
          }
        },
        "405d7760c1b746fdb22d0a095db320ad": {
          "model_module": "@jupyter-widgets/controls",
          "model_name": "HBoxModel",
          "state": {
            "_view_name": "HBoxView",
            "_dom_classes": [],
            "_model_name": "HBoxModel",
            "_view_module": "@jupyter-widgets/controls",
            "_model_module_version": "1.5.0",
            "_view_count": null,
            "_view_module_version": "1.5.0",
            "box_style": "",
            "layout": "IPY_MODEL_32a76aec04414e8eb8d516da6d0608b4",
            "_model_module": "@jupyter-widgets/controls",
            "children": [
              "IPY_MODEL_b32cffc653794a11b4f2a26da18d0441",
              "IPY_MODEL_1dde123f70314ecc8d8e2ab4d1eefb8c"
            ]
          }
        },
        "32a76aec04414e8eb8d516da6d0608b4": {
          "model_module": "@jupyter-widgets/base",
          "model_name": "LayoutModel",
          "state": {
            "_view_name": "LayoutView",
            "grid_template_rows": null,
            "right": null,
            "justify_content": null,
            "_view_module": "@jupyter-widgets/base",
            "overflow": null,
            "_model_module_version": "1.2.0",
            "_view_count": null,
            "flex_flow": null,
            "width": null,
            "min_width": null,
            "border": null,
            "align_items": null,
            "bottom": null,
            "_model_module": "@jupyter-widgets/base",
            "top": null,
            "grid_column": null,
            "overflow_y": null,
            "overflow_x": null,
            "grid_auto_flow": null,
            "grid_area": null,
            "grid_template_columns": null,
            "flex": null,
            "_model_name": "LayoutModel",
            "justify_items": null,
            "grid_row": null,
            "max_height": null,
            "align_content": null,
            "visibility": null,
            "align_self": null,
            "height": null,
            "min_height": null,
            "padding": null,
            "grid_auto_rows": null,
            "grid_gap": null,
            "max_width": null,
            "order": null,
            "_view_module_version": "1.2.0",
            "grid_template_areas": null,
            "object_position": null,
            "object_fit": null,
            "grid_auto_columns": null,
            "margin": null,
            "display": null,
            "left": null
          }
        },
        "b32cffc653794a11b4f2a26da18d0441": {
          "model_module": "@jupyter-widgets/controls",
          "model_name": "IntProgressModel",
          "state": {
            "_view_name": "ProgressView",
            "style": "IPY_MODEL_27a47f1016a044059bfa19f25cc1ae62",
            "_dom_classes": [],
            "description": "",
            "_model_name": "IntProgressModel",
            "bar_style": "success",
            "max": 50,
            "_view_module": "@jupyter-widgets/controls",
            "_model_module_version": "1.5.0",
            "value": 50,
            "_view_count": null,
            "_view_module_version": "1.5.0",
            "orientation": "horizontal",
            "min": 0,
            "description_tooltip": null,
            "_model_module": "@jupyter-widgets/controls",
            "layout": "IPY_MODEL_eacfcc62eba04464bfa065cb0f5484d7"
          }
        },
        "1dde123f70314ecc8d8e2ab4d1eefb8c": {
          "model_module": "@jupyter-widgets/controls",
          "model_name": "HTMLModel",
          "state": {
            "_view_name": "HTMLView",
            "style": "IPY_MODEL_d843e2ae48724eb5a6a32d87a311816f",
            "_dom_classes": [],
            "description": "",
            "_model_name": "HTMLModel",
            "placeholder": "​",
            "_view_module": "@jupyter-widgets/controls",
            "_model_module_version": "1.5.0",
            "value": "100% 50/50 [00:24&lt;00:00,  2.03it/s]",
            "_view_count": null,
            "_view_module_version": "1.5.0",
            "description_tooltip": null,
            "_model_module": "@jupyter-widgets/controls",
            "layout": "IPY_MODEL_7ea07fcccc9c4a8ab03d744e404f0b71"
          }
        },
        "27a47f1016a044059bfa19f25cc1ae62": {
          "model_module": "@jupyter-widgets/controls",
          "model_name": "ProgressStyleModel",
          "state": {
            "_view_name": "StyleView",
            "_model_name": "ProgressStyleModel",
            "description_width": "",
            "_view_module": "@jupyter-widgets/base",
            "_model_module_version": "1.5.0",
            "_view_count": null,
            "_view_module_version": "1.2.0",
            "bar_color": null,
            "_model_module": "@jupyter-widgets/controls"
          }
        },
        "eacfcc62eba04464bfa065cb0f5484d7": {
          "model_module": "@jupyter-widgets/base",
          "model_name": "LayoutModel",
          "state": {
            "_view_name": "LayoutView",
            "grid_template_rows": null,
            "right": null,
            "justify_content": null,
            "_view_module": "@jupyter-widgets/base",
            "overflow": null,
            "_model_module_version": "1.2.0",
            "_view_count": null,
            "flex_flow": null,
            "width": null,
            "min_width": null,
            "border": null,
            "align_items": null,
            "bottom": null,
            "_model_module": "@jupyter-widgets/base",
            "top": null,
            "grid_column": null,
            "overflow_y": null,
            "overflow_x": null,
            "grid_auto_flow": null,
            "grid_area": null,
            "grid_template_columns": null,
            "flex": null,
            "_model_name": "LayoutModel",
            "justify_items": null,
            "grid_row": null,
            "max_height": null,
            "align_content": null,
            "visibility": null,
            "align_self": null,
            "height": null,
            "min_height": null,
            "padding": null,
            "grid_auto_rows": null,
            "grid_gap": null,
            "max_width": null,
            "order": null,
            "_view_module_version": "1.2.0",
            "grid_template_areas": null,
            "object_position": null,
            "object_fit": null,
            "grid_auto_columns": null,
            "margin": null,
            "display": null,
            "left": null
          }
        },
        "d843e2ae48724eb5a6a32d87a311816f": {
          "model_module": "@jupyter-widgets/controls",
          "model_name": "DescriptionStyleModel",
          "state": {
            "_view_name": "StyleView",
            "_model_name": "DescriptionStyleModel",
            "description_width": "",
            "_view_module": "@jupyter-widgets/base",
            "_model_module_version": "1.5.0",
            "_view_count": null,
            "_view_module_version": "1.2.0",
            "_model_module": "@jupyter-widgets/controls"
          }
        },
        "7ea07fcccc9c4a8ab03d744e404f0b71": {
          "model_module": "@jupyter-widgets/base",
          "model_name": "LayoutModel",
          "state": {
            "_view_name": "LayoutView",
            "grid_template_rows": null,
            "right": null,
            "justify_content": null,
            "_view_module": "@jupyter-widgets/base",
            "overflow": null,
            "_model_module_version": "1.2.0",
            "_view_count": null,
            "flex_flow": null,
            "width": null,
            "min_width": null,
            "border": null,
            "align_items": null,
            "bottom": null,
            "_model_module": "@jupyter-widgets/base",
            "top": null,
            "grid_column": null,
            "overflow_y": null,
            "overflow_x": null,
            "grid_auto_flow": null,
            "grid_area": null,
            "grid_template_columns": null,
            "flex": null,
            "_model_name": "LayoutModel",
            "justify_items": null,
            "grid_row": null,
            "max_height": null,
            "align_content": null,
            "visibility": null,
            "align_self": null,
            "height": null,
            "min_height": null,
            "padding": null,
            "grid_auto_rows": null,
            "grid_gap": null,
            "max_width": null,
            "order": null,
            "_view_module_version": "1.2.0",
            "grid_template_areas": null,
            "object_position": null,
            "object_fit": null,
            "grid_auto_columns": null,
            "margin": null,
            "display": null,
            "left": null
          }
        },
        "23c8d04fa8e44899ab7447b81e9e2402": {
          "model_module": "@jupyter-widgets/controls",
          "model_name": "HBoxModel",
          "state": {
            "_view_name": "HBoxView",
            "_dom_classes": [],
            "_model_name": "HBoxModel",
            "_view_module": "@jupyter-widgets/controls",
            "_model_module_version": "1.5.0",
            "_view_count": null,
            "_view_module_version": "1.5.0",
            "box_style": "",
            "layout": "IPY_MODEL_b691ee27a7d742a7a6f222ec7f7b7bed",
            "_model_module": "@jupyter-widgets/controls",
            "children": [
              "IPY_MODEL_09598121a3104a479f74629e7b0d98b6",
              "IPY_MODEL_2043c151e34e4508936d7717078fc6d4"
            ]
          }
        },
        "b691ee27a7d742a7a6f222ec7f7b7bed": {
          "model_module": "@jupyter-widgets/base",
          "model_name": "LayoutModel",
          "state": {
            "_view_name": "LayoutView",
            "grid_template_rows": null,
            "right": null,
            "justify_content": null,
            "_view_module": "@jupyter-widgets/base",
            "overflow": null,
            "_model_module_version": "1.2.0",
            "_view_count": null,
            "flex_flow": null,
            "width": null,
            "min_width": null,
            "border": null,
            "align_items": null,
            "bottom": null,
            "_model_module": "@jupyter-widgets/base",
            "top": null,
            "grid_column": null,
            "overflow_y": null,
            "overflow_x": null,
            "grid_auto_flow": null,
            "grid_area": null,
            "grid_template_columns": null,
            "flex": null,
            "_model_name": "LayoutModel",
            "justify_items": null,
            "grid_row": null,
            "max_height": null,
            "align_content": null,
            "visibility": null,
            "align_self": null,
            "height": null,
            "min_height": null,
            "padding": null,
            "grid_auto_rows": null,
            "grid_gap": null,
            "max_width": null,
            "order": null,
            "_view_module_version": "1.2.0",
            "grid_template_areas": null,
            "object_position": null,
            "object_fit": null,
            "grid_auto_columns": null,
            "margin": null,
            "display": null,
            "left": null
          }
        },
        "09598121a3104a479f74629e7b0d98b6": {
          "model_module": "@jupyter-widgets/controls",
          "model_name": "IntProgressModel",
          "state": {
            "_view_name": "ProgressView",
            "style": "IPY_MODEL_b0115d44f23c4f83b9655a7a2b826b6b",
            "_dom_classes": [],
            "description": "",
            "_model_name": "IntProgressModel",
            "bar_style": "success",
            "max": 50,
            "_view_module": "@jupyter-widgets/controls",
            "_model_module_version": "1.5.0",
            "value": 50,
            "_view_count": null,
            "_view_module_version": "1.5.0",
            "orientation": "horizontal",
            "min": 0,
            "description_tooltip": null,
            "_model_module": "@jupyter-widgets/controls",
            "layout": "IPY_MODEL_c348e087c7364879a60f82e62f5bb823"
          }
        },
        "2043c151e34e4508936d7717078fc6d4": {
          "model_module": "@jupyter-widgets/controls",
          "model_name": "HTMLModel",
          "state": {
            "_view_name": "HTMLView",
            "style": "IPY_MODEL_de697c55913f4f67a3ce456fa626b64e",
            "_dom_classes": [],
            "description": "",
            "_model_name": "HTMLModel",
            "placeholder": "​",
            "_view_module": "@jupyter-widgets/controls",
            "_model_module_version": "1.5.0",
            "value": "100% 50/50 [00:01&lt;00:00, 28.64it/s]",
            "_view_count": null,
            "_view_module_version": "1.5.0",
            "description_tooltip": null,
            "_model_module": "@jupyter-widgets/controls",
            "layout": "IPY_MODEL_42f19b92b4314c52ab726309a66a72cf"
          }
        },
        "b0115d44f23c4f83b9655a7a2b826b6b": {
          "model_module": "@jupyter-widgets/controls",
          "model_name": "ProgressStyleModel",
          "state": {
            "_view_name": "StyleView",
            "_model_name": "ProgressStyleModel",
            "description_width": "",
            "_view_module": "@jupyter-widgets/base",
            "_model_module_version": "1.5.0",
            "_view_count": null,
            "_view_module_version": "1.2.0",
            "bar_color": null,
            "_model_module": "@jupyter-widgets/controls"
          }
        },
        "c348e087c7364879a60f82e62f5bb823": {
          "model_module": "@jupyter-widgets/base",
          "model_name": "LayoutModel",
          "state": {
            "_view_name": "LayoutView",
            "grid_template_rows": null,
            "right": null,
            "justify_content": null,
            "_view_module": "@jupyter-widgets/base",
            "overflow": null,
            "_model_module_version": "1.2.0",
            "_view_count": null,
            "flex_flow": null,
            "width": null,
            "min_width": null,
            "border": null,
            "align_items": null,
            "bottom": null,
            "_model_module": "@jupyter-widgets/base",
            "top": null,
            "grid_column": null,
            "overflow_y": null,
            "overflow_x": null,
            "grid_auto_flow": null,
            "grid_area": null,
            "grid_template_columns": null,
            "flex": null,
            "_model_name": "LayoutModel",
            "justify_items": null,
            "grid_row": null,
            "max_height": null,
            "align_content": null,
            "visibility": null,
            "align_self": null,
            "height": null,
            "min_height": null,
            "padding": null,
            "grid_auto_rows": null,
            "grid_gap": null,
            "max_width": null,
            "order": null,
            "_view_module_version": "1.2.0",
            "grid_template_areas": null,
            "object_position": null,
            "object_fit": null,
            "grid_auto_columns": null,
            "margin": null,
            "display": null,
            "left": null
          }
        },
        "de697c55913f4f67a3ce456fa626b64e": {
          "model_module": "@jupyter-widgets/controls",
          "model_name": "DescriptionStyleModel",
          "state": {
            "_view_name": "StyleView",
            "_model_name": "DescriptionStyleModel",
            "description_width": "",
            "_view_module": "@jupyter-widgets/base",
            "_model_module_version": "1.5.0",
            "_view_count": null,
            "_view_module_version": "1.2.0",
            "_model_module": "@jupyter-widgets/controls"
          }
        },
        "42f19b92b4314c52ab726309a66a72cf": {
          "model_module": "@jupyter-widgets/base",
          "model_name": "LayoutModel",
          "state": {
            "_view_name": "LayoutView",
            "grid_template_rows": null,
            "right": null,
            "justify_content": null,
            "_view_module": "@jupyter-widgets/base",
            "overflow": null,
            "_model_module_version": "1.2.0",
            "_view_count": null,
            "flex_flow": null,
            "width": null,
            "min_width": null,
            "border": null,
            "align_items": null,
            "bottom": null,
            "_model_module": "@jupyter-widgets/base",
            "top": null,
            "grid_column": null,
            "overflow_y": null,
            "overflow_x": null,
            "grid_auto_flow": null,
            "grid_area": null,
            "grid_template_columns": null,
            "flex": null,
            "_model_name": "LayoutModel",
            "justify_items": null,
            "grid_row": null,
            "max_height": null,
            "align_content": null,
            "visibility": null,
            "align_self": null,
            "height": null,
            "min_height": null,
            "padding": null,
            "grid_auto_rows": null,
            "grid_gap": null,
            "max_width": null,
            "order": null,
            "_view_module_version": "1.2.0",
            "grid_template_areas": null,
            "object_position": null,
            "object_fit": null,
            "grid_auto_columns": null,
            "margin": null,
            "display": null,
            "left": null
          }
        }
      }
    }
  },
  "cells": [
    {
      "cell_type": "markdown",
      "metadata": {
        "id": "myc1YNEN8vg9",
        "colab_type": "text"
      },
      "source": [
        "# Time series - multivariate prediction, LSTM for continuous prediction\n",
        "\n",
        "In this example we will load prepared data and try to predict it with a lstm network producing continuous prediction\n",
        "\n",
        "This example is very similar to the last lstm example except the model is trained to predict one step into the future that can be used for latter predictions."
      ]
    },
    {
      "cell_type": "code",
      "metadata": {
        "id": "YXKp9-wo8vg_",
        "colab_type": "code",
        "outputId": "3d709fba-6cba-4e7e-e4e6-899f0532b527",
        "colab": {
          "base_uri": "https://localhost:8080/",
          "height": 34
        }
      },
      "source": [
        "%tensorflow_version 2.x\n",
        "%matplotlib inline\n",
        "\n",
        "import numpy as np\n",
        "import os\n",
        "from datetime import date\n",
        "import re\n",
        "\n",
        "import matplotlib.pyplot as plt\n",
        "\n",
        "import pandas as pd\n",
        "pd.options.display.max_rows = 30\n",
        "from pandas.plotting import register_matplotlib_converters\n",
        "register_matplotlib_converters()"
      ],
      "execution_count": 1,
      "outputs": [
        {
          "output_type": "stream",
          "text": [
            "TensorFlow 2.x selected.\n"
          ],
          "name": "stdout"
        }
      ]
    },
    {
      "cell_type": "code",
      "metadata": {
        "id": "IoISEasWDVgH",
        "colab_type": "code",
        "colab": {}
      },
      "source": [
        "from google.colab import drive\n",
        "drive.mount('/content/drive/')"
      ],
      "execution_count": 0,
      "outputs": []
    },
    {
      "cell_type": "markdown",
      "metadata": {
        "id": "TfyFAYH4mMrR",
        "colab_type": "text"
      },
      "source": [
        ""
      ]
    },
    {
      "cell_type": "code",
      "metadata": {
        "id": "IjbPWFF58vhD",
        "colab_type": "code",
        "colab": {}
      },
      "source": [
        "PATH = '/content/drive/My Drive/ml-college/time-series-analysis/data/weather/training_set_temp_dp_press.p'\n",
        "training_df = pd.read_pickle(PATH)"
      ],
      "execution_count": 0,
      "outputs": []
    },
    {
      "cell_type": "markdown",
      "metadata": {
        "id": "jwd7sjT_8vhG",
        "colab_type": "text"
      },
      "source": [
        "Notice that we would randomly sample the training data from the whole weather history.\n",
        "\n",
        "The `indices` array will contain starting date for each sample"
      ]
    },
    {
      "cell_type": "code",
      "metadata": {
        "id": "Ud_KrFMw8vhI",
        "colab_type": "code",
        "colab": {}
      },
      "source": [
        "import random\n",
        "\n",
        "PREDICTION_LEN = 7\n",
        "HISTORY_LEN = 14\n",
        "NUM_SAMPLES = 2000\n",
        "NUM_INPUTS = len(training_df.columns)"
      ],
      "execution_count": 0,
      "outputs": []
    },
    {
      "cell_type": "markdown",
      "metadata": {
        "id": "BuE0pTJOj8sX",
        "colab_type": "text"
      },
      "source": [
        "You can sample from the training set randomly:"
      ]
    },
    {
      "cell_type": "code",
      "metadata": {
        "id": "bd9yZlYPiFmG",
        "colab_type": "code",
        "colab": {}
      },
      "source": [
        "indices = random.sample(range(0,len(training_df) - HISTORY_LEN - 1), NUM_SAMPLES)"
      ],
      "execution_count": 0,
      "outputs": []
    },
    {
      "cell_type": "markdown",
      "metadata": {
        "id": "L6pS1MU3mPpL",
        "colab_type": "text"
      },
      "source": [
        "... or you can sample sequetially:"
      ]
    },
    {
      "cell_type": "code",
      "metadata": {
        "id": "04Kw7gSgjIKo",
        "colab_type": "code",
        "colab": {}
      },
      "source": [
        "indices = list(range(0, len(training_df) - HISTORY_LEN - 1, HISTORY_LEN))\n",
        "random.shuffle(indices)"
      ],
      "execution_count": 0,
      "outputs": []
    },
    {
      "cell_type": "markdown",
      "metadata": {
        "id": "NyXAuhoe8vhL",
        "colab_type": "text"
      },
      "source": [
        "In this example the target sequence is shifted one step into the future. The model need to accumulate information in its inner state to correctly predict it.\n",
        "\n",
        "Both input and output tensors remain in sequence form."
      ]
    },
    {
      "cell_type": "code",
      "metadata": {
        "id": "UAU3EJgu8vhM",
        "colab_type": "code",
        "colab": {}
      },
      "source": [
        "ts_data = training_df.values\n",
        "ts_inputs = np.array([ts_data[i:i + HISTORY_LEN] for i in indices])\n",
        "ts_outputs = np.array([ts_data[i + 1: i + 1 + HISTORY_LEN] for i in indices])"
      ],
      "execution_count": 0,
      "outputs": []
    },
    {
      "cell_type": "code",
      "metadata": {
        "id": "4NTdYUux8vhQ",
        "colab_type": "code",
        "outputId": "e05331a5-ce4f-44cf-aabf-6120a35a9757",
        "colab": {
          "base_uri": "https://localhost:8080/",
          "height": 289
        }
      },
      "source": [
        "from tensorflow.keras import Model\n",
        "from tensorflow.keras.layers import LSTM, GRU, Input, Dense\n",
        "\n",
        "inputs = Input(shape=ts_inputs.shape[1:])\n",
        "x = GRU(64, return_sequences=True, recurrent_activation='sigmoid')(inputs)\n",
        "x = GRU(32, return_sequences=True, recurrent_activation='sigmoid')(x)\n",
        "outputs = Dense(NUM_INPUTS)(x)\n",
        "\n",
        "model = Model(inputs, outputs)\n",
        "model.compile(optimizer='adam', loss='mse')\n",
        "model.summary()"
      ],
      "execution_count": 8,
      "outputs": [
        {
          "output_type": "stream",
          "text": [
            "Model: \"model\"\n",
            "_________________________________________________________________\n",
            "Layer (type)                 Output Shape              Param #   \n",
            "=================================================================\n",
            "input_1 (InputLayer)         [(None, 14, 4)]           0         \n",
            "_________________________________________________________________\n",
            "gru (GRU)                    (None, 14, 64)            13440     \n",
            "_________________________________________________________________\n",
            "gru_1 (GRU)                  (None, 14, 32)            9408      \n",
            "_________________________________________________________________\n",
            "dense (Dense)                (None, 14, 4)             132       \n",
            "=================================================================\n",
            "Total params: 22,980\n",
            "Trainable params: 22,980\n",
            "Non-trainable params: 0\n",
            "_________________________________________________________________\n"
          ],
          "name": "stdout"
        }
      ]
    },
    {
      "cell_type": "code",
      "metadata": {
        "scrolled": false,
        "id": "Qya_eenr8vhT",
        "colab_type": "code",
        "colab": {}
      },
      "source": [
        "model.fit(ts_inputs, ts_outputs, validation_split=0.1, epochs=200)"
      ],
      "execution_count": 0,
      "outputs": []
    },
    {
      "cell_type": "code",
      "metadata": {
        "id": "3PRU5Vuz8vhX",
        "colab_type": "code",
        "colab": {}
      },
      "source": [
        "model.save_weights('model_plus1_predition.h5')"
      ],
      "execution_count": 0,
      "outputs": []
    },
    {
      "cell_type": "markdown",
      "metadata": {
        "id": "gCoFSQEc8vhe",
        "colab_type": "text"
      },
      "source": [
        "## Prediction phase\n",
        "\n",
        "To test the prediction, we will take a particular date and feed the history into the network.\n",
        "\n",
        "The network will predict one step into the future and we will take this prediction and feed it back to the network. In this way, we can predict multiple (and variable) steps into the future\n",
        "\n",
        "Notice that the model is `stateful` i.e. the hidden state does not reset after the prediction."
      ]
    },
    {
      "cell_type": "code",
      "metadata": {
        "id": "uXQkl9Dy8vha",
        "colab_type": "code",
        "outputId": "5d4b5f82-b6ea-4c1b-a8cd-a6990df10982",
        "colab": {
          "base_uri": "https://localhost:8080/",
          "height": 289
        }
      },
      "source": [
        "inputs = Input(batch_shape=(1, 1, NUM_INPUTS))\n",
        "x = GRU(64, return_sequences=True, stateful=True)(inputs)\n",
        "x = GRU(32, return_sequences=True, stateful=True)(x)\n",
        "outputs = Dense(NUM_INPUTS)(x)\n",
        "\n",
        "pred_model = Model(inputs, outputs)\n",
        "pred_model.summary()\n",
        "pred_model.load_weights('model_plus1_predition.h5')\n",
        "\n",
        "\n",
        "def self_predict(prediction_input):\n",
        "\n",
        "    pred_model.reset_states()\n",
        "    for i in range(0, HISTORY_LEN):\n",
        "        prediction = pred_model.predict(prediction_input.values[i].reshape(1, 1, NUM_INPUTS))\n",
        "        \n",
        "    self_predicition = [np.copy(prediction)]\n",
        "\n",
        "    for i in range(0, PREDICTION_LEN - 1):\n",
        "        prediction = pred_model.predict(self_predicition[i])\n",
        "        self_predicition.append(np.copy(prediction))\n",
        "    \n",
        "    return self_predicition"
      ],
      "execution_count": 11,
      "outputs": [
        {
          "output_type": "stream",
          "text": [
            "Model: \"model_1\"\n",
            "_________________________________________________________________\n",
            "Layer (type)                 Output Shape              Param #   \n",
            "=================================================================\n",
            "input_2 (InputLayer)         [(1, 1, 4)]               0         \n",
            "_________________________________________________________________\n",
            "gru_2 (GRU)                  (1, 1, 64)                13440     \n",
            "_________________________________________________________________\n",
            "gru_3 (GRU)                  (1, 1, 32)                9408      \n",
            "_________________________________________________________________\n",
            "dense_1 (Dense)              (1, 1, 4)                 132       \n",
            "=================================================================\n",
            "Total params: 22,980\n",
            "Trainable params: 22,980\n",
            "Non-trainable params: 0\n",
            "_________________________________________________________________\n"
          ],
          "name": "stdout"
        }
      ]
    },
    {
      "cell_type": "markdown",
      "metadata": {
        "id": "NV6Tvrw9mmeK",
        "colab_type": "text"
      },
      "source": [
        "## Evaluation\n",
        "\n",
        "First, let's see how a single sample from testing set look like:"
      ]
    },
    {
      "cell_type": "code",
      "metadata": {
        "id": "VZIAGl3P8vhf",
        "colab_type": "code",
        "colab": {}
      },
      "source": [
        "import datetime\n",
        "from datetime import timedelta"
      ],
      "execution_count": 0,
      "outputs": []
    },
    {
      "cell_type": "code",
      "metadata": {
        "id": "H-f0u2-bn82_",
        "colab_type": "code",
        "colab": {}
      },
      "source": [
        "PATH = '/content/drive/My Drive/ml-college/time-series-analysis/data/weather/testing_set_temp_dp_press.p'\n",
        "testing_df = pd.read_pickle(PATH)"
      ],
      "execution_count": 0,
      "outputs": []
    },
    {
      "cell_type": "code",
      "metadata": {
        "id": "j_f61tvv8vhm",
        "colab_type": "code",
        "colab": {}
      },
      "source": [
        "def show_prediction(prediction_date):\n",
        "    \n",
        "    self_predicition = self_predict(testing_df[prediction_date - timedelta(days=HISTORY_LEN - 1): prediction_date])\n",
        "\n",
        "    history = testing_df[prediction_date - timedelta(days=HISTORY_LEN - 1): prediction_date + timedelta(days=PREDICTION_LEN)]\n",
        "    prediction_df = pd.DataFrame(\n",
        "        np.vstack(self_predicition).reshape((PREDICTION_LEN, NUM_INPUTS)), \n",
        "        index=pd.date_range(start=prediction_date + timedelta(days=1), freq='D', periods=PREDICTION_LEN)\n",
        "    )\n",
        "\n",
        "    plt.figure(figsize = (12, 6))\n",
        "    history_plt = plt.plot(history.iloc[:,0:3], linestyle='--')\n",
        "    plt.plot(history.iloc[:,3], 'oc')\n",
        "    plt.plot(prediction_df.iloc[:,0], color=history_plt[0].get_color())\n",
        "    plt.plot(prediction_df.iloc[:,1], color=history_plt[1].get_color())\n",
        "    plt.plot(prediction_df.iloc[:,2], color=history_plt[2].get_color())\n",
        "    plt.plot(prediction_df.iloc[:,3], 'or')\n",
        "    plt.show()"
      ],
      "execution_count": 0,
      "outputs": []
    },
    {
      "cell_type": "code",
      "metadata": {
        "id": "DCPi4ewN8vhi",
        "colab_type": "code",
        "colab": {
          "base_uri": "https://localhost:8080/",
          "height": 374
        },
        "outputId": "26bc8e32-8a2d-498b-a47e-8d77194ad18b"
      },
      "source": [
        "show_prediction(date(2017, 1, 21))"
      ],
      "execution_count": 16,
      "outputs": [
        {
          "output_type": "display_data",
          "data": {
            "image/png": "[encoded data removed]",
            "text/plain": [
              "<Figure size 864x432 with 1 Axes>"
            ]
          },
          "metadata": {
            "tags": []
          }
        }
      ]
    },
    {
      "cell_type": "markdown",
      "metadata": {
        "id": "PnQVvhLWPnVm",
        "colab_type": "text"
      },
      "source": [
        "\n",
        "... now, let's do some quantitative measurements against a simple baseline (constant model)"
      ]
    },
    {
      "cell_type": "code",
      "metadata": {
        "id": "_iwh6HQ3xrrw",
        "colab_type": "code",
        "colab": {}
      },
      "source": [
        "from tqdm import tqdm_notebook as tqdm\n",
        "\n",
        "def evaluate_one(prediction_date):\n",
        "    prediction_input = testing_df[prediction_date - timedelta(days=HISTORY_LEN - 1): prediction_date]\n",
        "\n",
        "    self_predicition = self_predict(prediction_input)\n",
        "\n",
        "    prediction = np.vstack(self_predicition).reshape((PREDICTION_LEN, NUM_INPUTS))\n",
        "    ground_truth = testing_df[prediction_date + timedelta(days=1) : prediction_date + timedelta(days=PREDICTION_LEN)].values\n",
        "    baseline_prediction = np.tile(testing_df.loc[prediction_date], (PREDICTION_LEN, 1))\n",
        "\n",
        "    return (\n",
        "        np.sum((prediction[:,:3] - ground_truth[:,:3]) ** 2), \n",
        "        np.sum((baseline_prediction[:,:3] - ground_truth[:,:3]) ** 2)\n",
        "    )\n",
        "\n",
        "def evaluate_all():\n",
        "    baseline_error = 0\n",
        "    model_error = 0\n",
        "\n",
        "    for i in tqdm(range(2, 52)):\n",
        "        prediction_date = date(2016,12,31) + timedelta(days=i * PREDICTION_LEN)\n",
        "        model_e, baseline_e = evaluate_one(prediction_date)\n",
        "        model_error += model_e\n",
        "        baseline_error += baseline_e\n",
        "\n",
        "    return model_error, baseline_error"
      ],
      "execution_count": 0,
      "outputs": []
    },
    {
      "cell_type": "code",
      "metadata": {
        "id": "Lu2icWKhPE0_",
        "colab_type": "code",
        "colab": {
          "base_uri": "https://localhost:8080/",
          "height": 83,
          "referenced_widgets": [
            "ff7a5b7606de4691aca10b3747b3daee",
            "d2bea3423b594e02b8f95f4c4d8a9e37",
            "dc96d10bfaba468c815d8d917e90796a",
            "97b1fe179a774848ab785414ba75779c",
            "c99919e2373149a292f0af062efa3d4f",
            "534e8f34508741b2bd83a8483dc842d9",
            "2130f1ee8e0c47309b5bfd77f764f368",
            "4fa0d66f98dc4a1492fd0b99f0d8b2d2"
          ]
        },
        "outputId": "40117e23-86f8-443f-dfd9-75570445fa1c"
      },
      "source": [
        "evaluate_all()"
      ],
      "execution_count": 18,
      "outputs": [
        {
          "output_type": "display_data",
          "data": {
            "application/vnd.jupyter.widget-view+json": {
              "model_id": "ff7a5b7606de4691aca10b3747b3daee",
              "version_minor": 0,
              "version_major": 2
            },
            "text/plain": [
              "HBox(children=(IntProgress(value=0, max=50), HTML(value='')))"
            ]
          },
          "metadata": {
            "tags": []
          }
        },
        {
          "output_type": "stream",
          "text": [
            "\n"
          ],
          "name": "stdout"
        },
        {
          "output_type": "execute_result",
          "data": {
            "text/plain": [
              "(6.584022868098161, 9.392287473402634)"
            ]
          },
          "metadata": {
            "tags": []
          },
          "execution_count": 18
        }
      ]
    },
    {
      "cell_type": "markdown",
      "metadata": {
        "id": "C-3nmnypM6sL",
        "colab_type": "text"
      },
      "source": [
        "## Multiple loss functions\n",
        "\n",
        "To correctly handle this example, we should be training the network with multiple loss fuctions as prediction of precipitation is a binary classification task."
      ]
    },
    {
      "cell_type": "code",
      "metadata": {
        "id": "ewXTl7lGNZDk",
        "colab_type": "code",
        "outputId": "bdae9d3b-e97e-46e5-bb1f-4e4db1631e81",
        "colab": {
          "base_uri": "https://localhost:8080/",
          "height": 51
        }
      },
      "source": [
        "ts_outputs_1 = np.array([ts_data[i + 1: i + 1 + HISTORY_LEN, 0:3] for i in indices])\n",
        "ts_outputs_2 = np.array([ts_data[i + 1: i + 1 + HISTORY_LEN, 3] for i in indices])\n",
        "\n",
        "print(ts_outputs_1.shape)\n",
        "print(ts_outputs_2.shape)"
      ],
      "execution_count": 19,
      "outputs": [
        {
          "output_type": "stream",
          "text": [
            "(417, 14, 3)\n",
            "(417, 14)\n"
          ],
          "name": "stdout"
        }
      ]
    },
    {
      "cell_type": "code",
      "metadata": {
        "id": "OaISjoPMODKO",
        "colab_type": "code",
        "outputId": "ff8be293-6b11-4a93-e8fb-9c5af90aca61",
        "colab": {
          "base_uri": "https://localhost:8080/",
          "height": 323
        }
      },
      "source": [
        "inputs = Input(shape=ts_inputs.shape[1:])\n",
        "x = GRU(64, return_sequences=True, recurrent_activation='sigmoid')(inputs)\n",
        "x = GRU(32, return_sequences=True, recurrent_activation='sigmoid')(x)\n",
        "outputs_1 = Dense(3)(x)\n",
        "outputs_2 = Dense(1, activation=\"sigmoid\")(x)\n",
        "\n",
        "model = Model(inputs, [outputs_1, outputs_2])\n",
        "model.compile(optimizer='adam', loss=['mse', 'binary_crossentropy'], loss_weights=[1.0, 0.01])\n",
        "model.summary()"
      ],
      "execution_count": 20,
      "outputs": [
        {
          "output_type": "stream",
          "text": [
            "Model: \"model_2\"\n",
            "__________________________________________________________________________________________________\n",
            "Layer (type)                    Output Shape         Param #     Connected to                     \n",
            "==================================================================================================\n",
            "input_3 (InputLayer)            [(None, 14, 4)]      0                                            \n",
            "__________________________________________________________________________________________________\n",
            "gru_4 (GRU)                     (None, 14, 64)       13440       input_3[0][0]                    \n",
            "__________________________________________________________________________________________________\n",
            "gru_5 (GRU)                     (None, 14, 32)       9408        gru_4[0][0]                      \n",
            "__________________________________________________________________________________________________\n",
            "dense_2 (Dense)                 (None, 14, 3)        99          gru_5[0][0]                      \n",
            "__________________________________________________________________________________________________\n",
            "dense_3 (Dense)                 (None, 14, 1)        33          gru_5[0][0]                      \n",
            "==================================================================================================\n",
            "Total params: 22,980\n",
            "Trainable params: 22,980\n",
            "Non-trainable params: 0\n",
            "__________________________________________________________________________________________________\n"
          ],
          "name": "stdout"
        }
      ]
    },
    {
      "cell_type": "code",
      "metadata": {
        "id": "-b7GsX3nPsYy",
        "colab_type": "code",
        "colab": {}
      },
      "source": [
        "model.fit(ts_inputs, [ts_outputs_1, ts_outputs_2], validation_split=0.1, epochs=200)"
      ],
      "execution_count": 0,
      "outputs": []
    },
    {
      "cell_type": "code",
      "metadata": {
        "id": "h2Qri-ETQhPs",
        "colab_type": "code",
        "colab": {}
      },
      "source": [
        "model.save_weights('model_plus1_mult_predition.h5')"
      ],
      "execution_count": 0,
      "outputs": []
    },
    {
      "cell_type": "code",
      "metadata": {
        "colab_type": "code",
        "outputId": "d76a37b1-b68b-438b-875e-84987b878016",
        "id": "XLABkzU0Qbw6",
        "colab": {
          "base_uri": "https://localhost:8080/",
          "height": 323
        }
      },
      "source": [
        "inputs = Input(batch_shape=(1, 1, NUM_INPUTS))\n",
        "x = GRU(64, return_sequences=True, stateful=True)(inputs)\n",
        "x = GRU(32, return_sequences=True, stateful=True)(x)\n",
        "outputs_1 = Dense(3)(x)\n",
        "outputs_2 = Dense(1, activation='sigmoid')(x)\n",
        "\n",
        "pred_model = Model(inputs, [outputs_1, outputs_2])\n",
        "pred_model.summary()\n",
        "pred_model.load_weights('model_plus1_mult_predition.h5')\n",
        "\n",
        "def self_predict(prediction_input):\n",
        "\n",
        "    pred_model.reset_states()\n",
        "    for i in range(0, HISTORY_LEN):\n",
        "        prediction_1, prediction_2 = pred_model.predict(prediction_input.values[i].reshape(1, 1, NUM_INPUTS))\n",
        "\n",
        "    self_predicition = [np.concatenate((prediction_1, prediction_2), axis=-1)]\n",
        "\n",
        "    for i in range(0, PREDICTION_LEN - 1):\n",
        "        prediction_1, prediction_2 = pred_model.predict(self_predicition[i])\n",
        "\n",
        "        self_predicition.append(np.concatenate((prediction_1, prediction_2), axis=-1))\n",
        "    \n",
        "    return self_predicition"
      ],
      "execution_count": 23,
      "outputs": [
        {
          "output_type": "stream",
          "text": [
            "Model: \"model_3\"\n",
            "__________________________________________________________________________________________________\n",
            "Layer (type)                    Output Shape         Param #     Connected to                     \n",
            "==================================================================================================\n",
            "input_4 (InputLayer)            [(1, 1, 4)]          0                                            \n",
            "__________________________________________________________________________________________________\n",
            "gru_6 (GRU)                     (1, 1, 64)           13440       input_4[0][0]                    \n",
            "__________________________________________________________________________________________________\n",
            "gru_7 (GRU)                     (1, 1, 32)           9408        gru_6[0][0]                      \n",
            "__________________________________________________________________________________________________\n",
            "dense_4 (Dense)                 (1, 1, 3)            99          gru_7[0][0]                      \n",
            "__________________________________________________________________________________________________\n",
            "dense_5 (Dense)                 (1, 1, 1)            33          gru_7[0][0]                      \n",
            "==================================================================================================\n",
            "Total params: 22,980\n",
            "Trainable params: 22,980\n",
            "Non-trainable params: 0\n",
            "__________________________________________________________________________________________________\n"
          ],
          "name": "stdout"
        }
      ]
    },
    {
      "cell_type": "code",
      "metadata": {
        "colab_type": "code",
        "outputId": "cf428385-0e4a-47b7-98d8-48c69db6c152",
        "id": "L0kXwdi1QSV8",
        "colab": {
          "base_uri": "https://localhost:8080/",
          "height": 374
        }
      },
      "source": [
        "show_prediction(date(2017, 1, 21))"
      ],
      "execution_count": 24,
      "outputs": [
        {
          "output_type": "display_data",
          "data": {
            "image/png": "[encoded data removed]",
            "text/plain": [
              "<Figure size 864x432 with 1 Axes>"
            ]
          },
          "metadata": {
            "tags": []
          }
        }
      ]
    },
    {
      "cell_type": "code",
      "metadata": {
        "id": "JAdCiApsP3mX",
        "colab_type": "code",
        "colab": {
          "base_uri": "https://localhost:8080/",
          "height": 83,
          "referenced_widgets": [
            "405d7760c1b746fdb22d0a095db320ad",
            "32a76aec04414e8eb8d516da6d0608b4",
            "b32cffc653794a11b4f2a26da18d0441",
            "1dde123f70314ecc8d8e2ab4d1eefb8c",
            "27a47f1016a044059bfa19f25cc1ae62",
            "eacfcc62eba04464bfa065cb0f5484d7",
            "d843e2ae48724eb5a6a32d87a311816f",
            "7ea07fcccc9c4a8ab03d744e404f0b71"
          ]
        },
        "outputId": "6b3c5a3e-7062-4479-9c24-20a02558bc11"
      },
      "source": [
        "evaluate_all()"
      ],
      "execution_count": 25,
      "outputs": [
        {
          "output_type": "display_data",
          "data": {
            "application/vnd.jupyter.widget-view+json": {
              "model_id": "405d7760c1b746fdb22d0a095db320ad",
              "version_minor": 0,
              "version_major": 2
            },
            "text/plain": [
              "HBox(children=(IntProgress(value=0, max=50), HTML(value='')))"
            ]
          },
          "metadata": {
            "tags": []
          }
        },
        {
          "output_type": "stream",
          "text": [
            "\n"
          ],
          "name": "stdout"
        },
        {
          "output_type": "execute_result",
          "data": {
            "text/plain": [
              "(6.4065205998522226, 9.392287473402634)"
            ]
          },
          "metadata": {
            "tags": []
          },
          "execution_count": 25
        }
      ]
    },
    {
      "cell_type": "markdown",
      "metadata": {
        "id": "cBHYHNpsQd9d",
        "colab_type": "text"
      },
      "source": [
        "## Encoder-Decoder example\n",
        "\n",
        "Finally, let's see if we can make a better model for long-term prediction than the previous self-feeded +1 day. We are going to use the seq2seq model usually seen in machine-translation tasks (see https://keras.io/examples/lstm_seq2seq/)"
      ]
    },
    {
      "cell_type": "code",
      "metadata": {
        "id": "TgKWSxx0QdJJ",
        "colab_type": "code",
        "colab": {
          "base_uri": "https://localhost:8080/",
          "height": 357
        },
        "outputId": "5ec6c835-0a69-4a33-c64b-1c0fdf1fec8b"
      },
      "source": [
        "inputs = Input(shape=ts_inputs.shape[1:])\n",
        "_, states_h, states_c = LSTM(128, return_state=True)(inputs)\n",
        "encoder_states = [states_h, states_c]\n",
        "\n",
        "x = LSTM(128, return_sequences=True)(inputs, initial_state=encoder_states)\n",
        "outputs_1 = Dense(3)(x)\n",
        "outputs_2 = Dense(1, activation=\"sigmoid\")(x)\n",
        "\n",
        "model = Model(inputs, [outputs_1, outputs_2])\n",
        "model.compile(optimizer='adam', loss=['mse', 'binary_crossentropy'], loss_weights=[1.0, 0.01])\n",
        "model.summary()"
      ],
      "execution_count": 26,
      "outputs": [
        {
          "output_type": "stream",
          "text": [
            "Model: \"model_4\"\n",
            "__________________________________________________________________________________________________\n",
            "Layer (type)                    Output Shape         Param #     Connected to                     \n",
            "==================================================================================================\n",
            "input_5 (InputLayer)            [(None, 14, 4)]      0                                            \n",
            "__________________________________________________________________________________________________\n",
            "lstm (LSTM)                     [(None, 128), (None, 68096       input_5[0][0]                    \n",
            "__________________________________________________________________________________________________\n",
            "lstm_1 (LSTM)                   (None, 14, 128)      68096       input_5[0][0]                    \n",
            "                                                                 lstm[0][1]                       \n",
            "                                                                 lstm[0][2]                       \n",
            "__________________________________________________________________________________________________\n",
            "dense_6 (Dense)                 (None, 14, 3)        387         lstm_1[0][0]                     \n",
            "__________________________________________________________________________________________________\n",
            "dense_7 (Dense)                 (None, 14, 1)        129         lstm_1[0][0]                     \n",
            "==================================================================================================\n",
            "Total params: 136,708\n",
            "Trainable params: 136,708\n",
            "Non-trainable params: 0\n",
            "__________________________________________________________________________________________________\n"
          ],
          "name": "stdout"
        }
      ]
    },
    {
      "cell_type": "code",
      "metadata": {
        "id": "hcKyHG2zWzGi",
        "colab_type": "code",
        "colab": {
          "base_uri": "https://localhost:8080/",
          "height": 68
        },
        "outputId": "a6e5b4f4-1096-4c9a-81b1-826a03181a82"
      },
      "source": [
        "indices = list(range(0, len(training_df) - 2 * HISTORY_LEN, HISTORY_LEN))\n",
        "random.shuffle(indices)\n",
        "\n",
        "ts_inputs = np.array([ts_data[i:i + HISTORY_LEN] for i in indices])\n",
        "ts_outputs_1 = np.array([ts_data[i + HISTORY_LEN: i + 2 * HISTORY_LEN, 0:3] for i in indices])\n",
        "ts_outputs_2 = np.array([ts_data[i + HISTORY_LEN: i + 2 * HISTORY_LEN, 3] for i in indices])\n",
        "\n",
        "print(ts_inputs.shape)\n",
        "print(ts_outputs_1.shape)\n",
        "print(ts_outputs_2.shape)"
      ],
      "execution_count": 27,
      "outputs": [
        {
          "output_type": "stream",
          "text": [
            "(416, 14, 4)\n",
            "(416, 14, 3)\n",
            "(416, 14)\n"
          ],
          "name": "stdout"
        }
      ]
    },
    {
      "cell_type": "code",
      "metadata": {
        "id": "FzCz3lAQVoSd",
        "colab_type": "code",
        "colab": {}
      },
      "source": [
        "model.fit(ts_inputs, [ts_outputs_1, ts_outputs_2], validation_split=0.1, epochs=200)"
      ],
      "execution_count": 0,
      "outputs": []
    },
    {
      "cell_type": "code",
      "metadata": {
        "id": "otiVQrN-YNaO",
        "colab_type": "code",
        "colab": {}
      },
      "source": [
        "def self_predict(prediction_input):\n",
        "    prediction_1, prediction_2 = model.predict(prediction_input.values.reshape(1, HISTORY_LEN, NUM_INPUTS))\n",
        "    return np.concatenate((prediction_1, prediction_2), axis=-1)[0,:PREDICTION_LEN,:]    "
      ],
      "execution_count": 0,
      "outputs": []
    },
    {
      "cell_type": "code",
      "metadata": {
        "id": "5maWX5AmYRuR",
        "colab_type": "code",
        "colab": {
          "base_uri": "https://localhost:8080/",
          "height": 374
        },
        "outputId": "2e97e94d-af48-4216-d5c2-37e302434945"
      },
      "source": [
        "show_prediction(date(2017, 1, 21))"
      ],
      "execution_count": 30,
      "outputs": [
        {
          "output_type": "display_data",
          "data": {
            "image/png": "[encoded data removed]",
            "text/plain": [
              "<Figure size 864x432 with 1 Axes>"
            ]
          },
          "metadata": {
            "tags": []
          }
        }
      ]
    },
    {
      "cell_type": "code",
      "metadata": {
        "id": "lUzcL92bYyJL",
        "colab_type": "code",
        "colab": {
          "base_uri": "https://localhost:8080/",
          "height": 83,
          "referenced_widgets": [
            "23c8d04fa8e44899ab7447b81e9e2402",
            "b691ee27a7d742a7a6f222ec7f7b7bed",
            "09598121a3104a479f74629e7b0d98b6",
            "2043c151e34e4508936d7717078fc6d4",
            "b0115d44f23c4f83b9655a7a2b826b6b",
            "c348e087c7364879a60f82e62f5bb823",
            "de697c55913f4f67a3ce456fa626b64e",
            "42f19b92b4314c52ab726309a66a72cf"
          ]
        },
        "outputId": "ec487c19-2de5-472a-ed2f-27eb2e60162b"
      },
      "source": [
        "evaluate_all()"
      ],
      "execution_count": 31,
      "outputs": [
        {
          "output_type": "display_data",
          "data": {
            "application/vnd.jupyter.widget-view+json": {
              "model_id": "23c8d04fa8e44899ab7447b81e9e2402",
              "version_minor": 0,
              "version_major": 2
            },
            "text/plain": [
              "HBox(children=(IntProgress(value=0, max=50), HTML(value='')))"
            ]
          },
          "metadata": {
            "tags": []
          }
        },
        {
          "output_type": "stream",
          "text": [
            "\n"
          ],
          "name": "stdout"
        },
        {
          "output_type": "execute_result",
          "data": {
            "text/plain": [
              "(8.424325294685467, 9.392287473402634)"
            ]
          },
          "metadata": {
            "tags": []
          },
          "execution_count": 31
        }
      ]
    }
  ]
}